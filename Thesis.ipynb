{
  "nbformat": 4,
  "nbformat_minor": 0,
  "metadata": {
    "colab": {
      "name": "Thesis",
      "provenance": [],
      "collapsed_sections": [
        "_val6OXSgpFi",
        "Kj1oANNl0Iki",
        "zy9YNYUNL_2g",
        "Hf39dnpZJPJi",
        "Yeic5lKFJWr6",
        "Q_d2ySEhPlKG"
      ],
      "toc_visible": true,
      "authorship_tag": "ABX9TyOPqQ49Se4XmnD7Hf784zjz",
      "include_colab_link": true
    },
    "kernelspec": {
      "name": "python3",
      "display_name": "Python 3"
    },
    "language_info": {
      "name": "python"
    }
  },
  "cells": [
    {
      "cell_type": "markdown",
      "metadata": {
        "id": "view-in-github",
        "colab_type": "text"
      },
      "source": [
        "<a href=\"https://colab.research.google.com/github/alinepriscillia/GSinNHoL/blob/main/Thesis.ipynb\" target=\"_parent\"><img src=\"https://colab.research.google.com/assets/colab-badge.svg\" alt=\"Open In Colab\"/></a>"
      ]
    },
    {
      "cell_type": "markdown",
      "metadata": {
        "id": "69IfMYzthZHq"
      },
      "source": [
        "# Gain shift in the nested hierarchies of language\n",
        "\n"
      ]
    },
    {
      "cell_type": "markdown",
      "metadata": {
        "id": "3H63QKWYzwhy"
      },
      "source": [
        "## Getting started\n",
        "This notebook provides all the scripts used to create the RSA models and set up the analysis."
      ]
    },
    {
      "cell_type": "code",
      "metadata": {
        "id": "kx_lr6TbieKU",
        "colab": {
          "base_uri": "https://localhost:8080/"
        },
        "outputId": "c1cc5b48-d941-4cb3-e8b2-0c03bae228a5"
      },
      "source": [
        "!pip install -U spacy\n",
        "import spacy.cli\n",
        "spacy.cli.download(\"nl_core_news_lg\")\n",
        "import nl_core_news_lg"
      ],
      "execution_count": null,
      "outputs": [
        {
          "output_type": "stream",
          "text": [
            "Collecting spacy\n",
            "\u001b[?25l  Downloading https://files.pythonhosted.org/packages/1b/d8/0361bbaf7a1ff56b44dca04dace54c82d63dad7475b7d25ea1baefafafb2/spacy-3.0.6-cp37-cp37m-manylinux2014_x86_64.whl (12.8MB)\n",
            "\u001b[K     |████████████████████████████████| 12.8MB 279kB/s \n",
            "\u001b[?25hCollecting spacy-legacy<3.1.0,>=3.0.4\n",
            "  Downloading https://files.pythonhosted.org/packages/8d/67/d4002a18e26bf29b17ab563ddb55232b445ab6a02f97bf17d1345ff34d3f/spacy_legacy-3.0.5-py2.py3-none-any.whl\n",
            "Collecting catalogue<2.1.0,>=2.0.3\n",
            "  Downloading https://files.pythonhosted.org/packages/82/a5/b5021c74c04cac35a27d34cbf3146d86eb8e173b4491888bc4908c4c8b3b/catalogue-2.0.3-py3-none-any.whl\n",
            "Requirement already satisfied, skipping upgrade: setuptools in /usr/local/lib/python3.7/dist-packages (from spacy) (56.0.0)\n",
            "Collecting srsly<3.0.0,>=2.4.1\n",
            "\u001b[?25l  Downloading https://files.pythonhosted.org/packages/c3/84/dfdfc9f6f04f6b88207d96d9520b911e5fec0c67ff47a0dea31ab5429a1e/srsly-2.4.1-cp37-cp37m-manylinux2014_x86_64.whl (456kB)\n",
            "\u001b[K     |████████████████████████████████| 460kB 43.2MB/s \n",
            "\u001b[?25hCollecting pydantic<1.8.0,>=1.7.1\n",
            "\u001b[?25l  Downloading https://files.pythonhosted.org/packages/b3/0a/52ae1c659fc08f13dd7c0ae07b88e4f807ad83fb9954a59b0b0a3d1a8ab6/pydantic-1.7.3-cp37-cp37m-manylinux2014_x86_64.whl (9.1MB)\n",
            "\u001b[K     |████████████████████████████████| 9.1MB 41.1MB/s \n",
            "\u001b[?25hRequirement already satisfied, skipping upgrade: packaging>=20.0 in /usr/local/lib/python3.7/dist-packages (from spacy) (20.9)\n",
            "Requirement already satisfied, skipping upgrade: numpy>=1.15.0 in /usr/local/lib/python3.7/dist-packages (from spacy) (1.19.5)\n",
            "Requirement already satisfied, skipping upgrade: tqdm<5.0.0,>=4.38.0 in /usr/local/lib/python3.7/dist-packages (from spacy) (4.41.1)\n",
            "Collecting thinc<8.1.0,>=8.0.3\n",
            "\u001b[?25l  Downloading https://files.pythonhosted.org/packages/61/87/decceba68a0c6ca356ddcb6aea8b2500e71d9bc187f148aae19b747b7d3c/thinc-8.0.3-cp37-cp37m-manylinux2014_x86_64.whl (1.1MB)\n",
            "\u001b[K     |████████████████████████████████| 1.1MB 47.2MB/s \n",
            "\u001b[?25hRequirement already satisfied, skipping upgrade: typing-extensions<4.0.0.0,>=3.7.4; python_version < \"3.8\" in /usr/local/lib/python3.7/dist-packages (from spacy) (3.7.4.3)\n",
            "Requirement already satisfied, skipping upgrade: murmurhash<1.1.0,>=0.28.0 in /usr/local/lib/python3.7/dist-packages (from spacy) (1.0.5)\n",
            "Requirement already satisfied, skipping upgrade: jinja2 in /usr/local/lib/python3.7/dist-packages (from spacy) (2.11.3)\n",
            "Collecting typer<0.4.0,>=0.3.0\n",
            "  Downloading https://files.pythonhosted.org/packages/90/34/d138832f6945432c638f32137e6c79a3b682f06a63c488dcfaca6b166c64/typer-0.3.2-py3-none-any.whl\n",
            "Requirement already satisfied, skipping upgrade: requests<3.0.0,>=2.13.0 in /usr/local/lib/python3.7/dist-packages (from spacy) (2.23.0)\n",
            "Requirement already satisfied, skipping upgrade: blis<0.8.0,>=0.4.0 in /usr/local/lib/python3.7/dist-packages (from spacy) (0.4.1)\n",
            "Requirement already satisfied, skipping upgrade: cymem<2.1.0,>=2.0.2 in /usr/local/lib/python3.7/dist-packages (from spacy) (2.0.5)\n",
            "Requirement already satisfied, skipping upgrade: wasabi<1.1.0,>=0.8.1 in /usr/local/lib/python3.7/dist-packages (from spacy) (0.8.2)\n",
            "Requirement already satisfied, skipping upgrade: preshed<3.1.0,>=3.0.2 in /usr/local/lib/python3.7/dist-packages (from spacy) (3.0.5)\n",
            "Collecting pathy>=0.3.5\n",
            "\u001b[?25l  Downloading https://files.pythonhosted.org/packages/13/87/5991d87be8ed60beb172b4062dbafef18b32fa559635a8e2b633c2974f85/pathy-0.5.2-py3-none-any.whl (42kB)\n",
            "\u001b[K     |████████████████████████████████| 51kB 5.1MB/s \n",
            "\u001b[?25hRequirement already satisfied, skipping upgrade: zipp>=0.5; python_version < \"3.8\" in /usr/local/lib/python3.7/dist-packages (from catalogue<2.1.0,>=2.0.3->spacy) (3.4.1)\n",
            "Requirement already satisfied, skipping upgrade: pyparsing>=2.0.2 in /usr/local/lib/python3.7/dist-packages (from packaging>=20.0->spacy) (2.4.7)\n",
            "Requirement already satisfied, skipping upgrade: MarkupSafe>=0.23 in /usr/local/lib/python3.7/dist-packages (from jinja2->spacy) (1.1.1)\n",
            "Requirement already satisfied, skipping upgrade: click<7.2.0,>=7.1.1 in /usr/local/lib/python3.7/dist-packages (from typer<0.4.0,>=0.3.0->spacy) (7.1.2)\n",
            "Requirement already satisfied, skipping upgrade: certifi>=2017.4.17 in /usr/local/lib/python3.7/dist-packages (from requests<3.0.0,>=2.13.0->spacy) (2020.12.5)\n",
            "Requirement already satisfied, skipping upgrade: urllib3!=1.25.0,!=1.25.1,<1.26,>=1.21.1 in /usr/local/lib/python3.7/dist-packages (from requests<3.0.0,>=2.13.0->spacy) (1.24.3)\n",
            "Requirement already satisfied, skipping upgrade: chardet<4,>=3.0.2 in /usr/local/lib/python3.7/dist-packages (from requests<3.0.0,>=2.13.0->spacy) (3.0.4)\n",
            "Requirement already satisfied, skipping upgrade: idna<3,>=2.5 in /usr/local/lib/python3.7/dist-packages (from requests<3.0.0,>=2.13.0->spacy) (2.10)\n",
            "Collecting smart-open<4.0.0,>=2.2.0\n",
            "\u001b[?25l  Downloading https://files.pythonhosted.org/packages/11/9a/ba2d5f67f25e8d5bbf2fcec7a99b1e38428e83cb715f64dd179ca43a11bb/smart_open-3.0.0.tar.gz (113kB)\n",
            "\u001b[K     |████████████████████████████████| 122kB 52.9MB/s \n",
            "\u001b[?25hBuilding wheels for collected packages: smart-open\n",
            "  Building wheel for smart-open (setup.py) ... \u001b[?25l\u001b[?25hdone\n",
            "  Created wheel for smart-open: filename=smart_open-3.0.0-cp37-none-any.whl size=107098 sha256=67c28ca1efd8a6c526c2a1b1ffccb54b0492258ff4b993a1eb96b1565989ab14\n",
            "  Stored in directory: /root/.cache/pip/wheels/18/88/7c/f06dabd5e9cabe02d2269167bcacbbf9b47d0c0ff7d6ebcb78\n",
            "Successfully built smart-open\n",
            "Installing collected packages: spacy-legacy, catalogue, srsly, pydantic, thinc, typer, smart-open, pathy, spacy\n",
            "  Found existing installation: catalogue 1.0.0\n",
            "    Uninstalling catalogue-1.0.0:\n",
            "      Successfully uninstalled catalogue-1.0.0\n",
            "  Found existing installation: srsly 1.0.5\n",
            "    Uninstalling srsly-1.0.5:\n",
            "      Successfully uninstalled srsly-1.0.5\n",
            "  Found existing installation: thinc 7.4.0\n",
            "    Uninstalling thinc-7.4.0:\n",
            "      Successfully uninstalled thinc-7.4.0\n",
            "  Found existing installation: smart-open 5.0.0\n",
            "    Uninstalling smart-open-5.0.0:\n",
            "      Successfully uninstalled smart-open-5.0.0\n",
            "  Found existing installation: spacy 2.2.4\n",
            "    Uninstalling spacy-2.2.4:\n",
            "      Successfully uninstalled spacy-2.2.4\n",
            "Successfully installed catalogue-2.0.3 pathy-0.5.2 pydantic-1.7.3 smart-open-3.0.0 spacy-3.0.6 spacy-legacy-3.0.5 srsly-2.4.1 thinc-8.0.3 typer-0.3.2\n",
            "\u001b[38;5;2m✔ Download and installation successful\u001b[0m\n",
            "You can now load the package via spacy.load('nl_core_news_lg')\n"
          ],
          "name": "stdout"
        }
      ]
    },
    {
      "cell_type": "markdown",
      "metadata": {
        "id": "qHI8qvwj1BtB"
      },
      "source": [
        "Upload the audiobook text document, or the individual story transcripts."
      ]
    },
    {
      "cell_type": "code",
      "metadata": {
        "colab": {
          "resources": {
            "http://localhost:8080/nbextensions/google.colab/files.js": {
              "data": "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",
              "ok": true,
              "headers": [
                [
                  "content-type",
                  "application/javascript"
                ]
              ],
              "status": 200,
              "status_text": ""
            }
          },
          "base_uri": "https://localhost:8080/",
          "height": 73
        },
        "id": "-KyFDMby09vq",
        "outputId": "b1234147-5a21-419d-8881-baf1d9487252"
      },
      "source": [
        "from google.colab import files\n",
        "\n",
        "uploaded = files.upload()"
      ],
      "execution_count": null,
      "outputs": [
        {
          "output_type": "display_data",
          "data": {
            "text/html": [
              "\n",
              "     <input type=\"file\" id=\"files-9c946b10-bc0f-40a9-9117-a8c26f60f2e6\" name=\"files[]\" multiple disabled\n",
              "        style=\"border:none\" />\n",
              "     <output id=\"result-9c946b10-bc0f-40a9-9117-a8c26f60f2e6\">\n",
              "      Upload widget is only available when the cell has been executed in the\n",
              "      current browser session. Please rerun this cell to enable.\n",
              "      </output>\n",
              "      <script src=\"/nbextensions/google.colab/files.js\"></script> "
            ],
            "text/plain": [
              "<IPython.core.display.HTML object>"
            ]
          },
          "metadata": {
            "tags": []
          }
        },
        {
          "output_type": "stream",
          "text": [
            "Saving Audiobook.txt to Audiobook.txt\n"
          ],
          "name": "stdout"
        }
      ]
    },
    {
      "cell_type": "markdown",
      "metadata": {
        "id": "a08DWxcU0hCt"
      },
      "source": [
        "Whenever the words token or doc are referenced later in this notebook, the variables need to be generated from this section and the following cell in order for the code to work. (unless the text document is respecified). "
      ]
    },
    {
      "cell_type": "markdown",
      "metadata": {
        "id": "xxH_DIBBytdu"
      },
      "source": [
        "\n",
        "\n",
        "## Getting words and word numbers"
      ]
    },
    {
      "cell_type": "code",
      "metadata": {
        "id": "IIcwT0qQy5ux"
      },
      "source": [
        "#change filenames to suit story\n",
        "#this code is programmed to run on the whole audiobook \n",
        "\n",
        "from collections import Counter \n",
        "\n",
        "#word tokenizing and POS\n",
        "nlp = spacy.load(\"nl_core_news_lg\")\n",
        "text = 'Audiobook.txt'\n",
        "document = open(text).read()\n",
        "doc = nlp(document)\n",
        "words = [token.text for token in doc if token.pos_ == 'NOUN']\n",
        "word_freq = Counter(words)\n",
        "       "
      ],
      "execution_count": null,
      "outputs": []
    },
    {
      "cell_type": "markdown",
      "metadata": {
        "id": "WHvYZS1Z5VHs"
      },
      "source": [
        "Save nouns, word positions and frequencies:"
      ]
    },
    {
      "cell_type": "code",
      "metadata": {
        "id": "qPR9L0kbByMV"
      },
      "source": [
        "# needs to be done per individual text\n",
        "with open('grimm23_wordlist.txt','w') as file:\n",
        "    file.writelines(['Word Frequencies: \\n \\n',str(word_freq),'\\n \\n', 'Words: \\n \\n'])\n",
        "    wordnumber = 0\n",
        "    with open('grimm23_nounlist.txt', 'w') as f: #change title of doc as needed\n",
        "      for token in doc:\n",
        "        wordnumber = wordnumber + 1\n",
        "        if token.pos_ == 'NOUN':\n",
        "            f.writelines([str(token.text), '\\n'])\n",
        "            file.writelines([str(token.text), ', ',  str(wordnumber), ', ', str(token.is_oov),'\\n',]) #shows TRUE if out of vocab\n",
        "            "
      ],
      "execution_count": null,
      "outputs": []
    },
    {
      "cell_type": "markdown",
      "metadata": {
        "id": "_val6OXSgpFi"
      },
      "source": [
        "## Extracting w2v"
      ]
    },
    {
      "cell_type": "markdown",
      "metadata": {
        "id": "Fkd7N1S4uDaf"
      },
      "source": [
        "Load the library and the relevant text document uploaded to the files repository in colab."
      ]
    },
    {
      "cell_type": "code",
      "metadata": {
        "id": "YBAA3ptYuKNc"
      },
      "source": [
        "#change filename to suit final file/story\n",
        "#uses Celex word file to extract vectors\n",
        "\n",
        "import csv\n",
        "\n",
        "with open('allphonemes.csv', newline='') as csvfile:\n",
        "  data = csv.DictReader(csvfile)\n",
        "  with open('allvectors.csv', 'a', newline='') as csvfile:\n",
        "    writer = csv.DictWriter(csvfile, fieldnames=['word', 'vector'])\n",
        "    writer.writeheader()\n",
        "    for row in data:\n",
        "      for token in doc: \n",
        "        if row['Word'] == token.text:\n",
        "            v = token.vector\n",
        "            t = list(map(float, v))\n",
        "            r = {'word': str(token.text), 'vector': t}\n",
        "            writer.writerow(r)\n",
        "            break\n",
        "            "
      ],
      "execution_count": null,
      "outputs": []
    },
    {
      "cell_type": "markdown",
      "metadata": {
        "id": "Kj1oANNl0Iki"
      },
      "source": [
        "## Feature extraction"
      ]
    },
    {
      "cell_type": "markdown",
      "metadata": {
        "id": "VwS_VhLb0U4R"
      },
      "source": [
        "Download prosodic repo from github to read features.\n",
        "Code is written in python2 and some parts need to be adapted to python3.\n",
        "\n"
      ]
    },
    {
      "cell_type": "code",
      "metadata": {
        "id": "XizyPSA60yGx",
        "colab": {
          "base_uri": "https://localhost:8080/"
        },
        "outputId": "e45554e6-73e8-4ca6-bb17-d8b2fdd528e3"
      },
      "source": [
        "# Clone prosodic repo.\n",
        "!git clone -l -s git://github.com/jsfalk/prosodic1b.git\n",
        "!ls\n",
        "%cd prosodic1b/"
      ],
      "execution_count": null,
      "outputs": [
        {
          "output_type": "stream",
          "text": [
            "Cloning into 'prosodic1b'...\n",
            "warning: --local is ignored\n",
            "remote: Enumerating objects: 54, done.\u001b[K\n",
            "remote: Counting objects:   1% (1/54)\u001b[K\rremote: Counting objects:   3% (2/54)\u001b[K\rremote: Counting objects:   5% (3/54)\u001b[K\rremote: Counting objects:   7% (4/54)\u001b[K\rremote: Counting objects:   9% (5/54)\u001b[K\rremote: Counting objects:  11% (6/54)\u001b[K\rremote: Counting objects:  12% (7/54)\u001b[K\rremote: Counting objects:  14% (8/54)\u001b[K\rremote: Counting objects:  16% (9/54)\u001b[K\rremote: Counting objects:  18% (10/54)\u001b[K\rremote: Counting objects:  20% (11/54)\u001b[K\rremote: Counting objects:  22% (12/54)\u001b[K\rremote: Counting objects:  24% (13/54)\u001b[K\rremote: Counting objects:  25% (14/54)\u001b[K\rremote: Counting objects:  27% (15/54)\u001b[K\rremote: Counting objects:  29% (16/54)\u001b[K\rremote: Counting objects:  31% (17/54)\u001b[K\rremote: Counting objects:  33% (18/54)\u001b[K\rremote: Counting objects:  35% (19/54)\u001b[K\rremote: Counting objects:  37% (20/54)\u001b[K\rremote: Counting objects:  38% (21/54)\u001b[K\rremote: Counting objects:  40% (22/54)\u001b[K\rremote: Counting objects:  42% (23/54)\u001b[K\rremote: Counting objects:  44% (24/54)\u001b[K\rremote: Counting objects:  46% (25/54)\u001b[K\rremote: Counting objects:  48% (26/54)\u001b[K\rremote: Counting objects:  50% (27/54)\u001b[K\rremote: Counting objects:  51% (28/54)\u001b[K\rremote: Counting objects:  53% (29/54)\u001b[K\rremote: Counting objects:  55% (30/54)\u001b[K\rremote: Counting objects:  57% (31/54)\u001b[K\rremote: Counting objects:  59% (32/54)\u001b[K\rremote: Counting objects:  61% (33/54)\u001b[K\rremote: Counting objects:  62% (34/54)\u001b[K\rremote: Counting objects:  64% (35/54)\u001b[K\rremote: Counting objects:  66% (36/54)\u001b[K\rremote: Counting objects:  68% (37/54)\u001b[K\rremote: Counting objects:  70% (38/54)\u001b[K\rremote: Counting objects:  72% (39/54)\u001b[K\rremote: Counting objects:  74% (40/54)\u001b[K\rremote: Counting objects:  75% (41/54)\u001b[K\rremote: Counting objects:  77% (42/54)\u001b[K\rremote: Counting objects:  79% (43/54)\u001b[K\rremote: Counting objects:  81% (44/54)\u001b[K\rremote: Counting objects:  83% (45/54)\u001b[K\rremote: Counting objects:  85% (46/54)\u001b[K\rremote: Counting objects:  87% (47/54)\u001b[K\rremote: Counting objects:  88% (48/54)\u001b[K\rremote: Counting objects:  90% (49/54)\u001b[K\rremote: Counting objects:  92% (50/54)\u001b[K\rremote: Counting objects:  94% (51/54)\u001b[K\rremote: Counting objects:  96% (52/54)\u001b[K\rremote: Counting objects:  98% (53/54)\u001b[K\rremote: Counting objects: 100% (54/54)\u001b[K\rremote: Counting objects: 100% (54/54), done.\u001b[K\n",
            "remote: Compressing objects: 100% (43/43), done.\u001b[K\n",
            "remote: Total 54 (delta 7), reused 54 (delta 7), pack-reused 0\u001b[K\n",
            "Receiving objects: 100% (54/54), 887.41 KiB | 16.43 MiB/s, done.\n",
            "Resolving deltas: 100% (7/7), done.\n",
            "allfeatures.csv  allphonemes.csv  earlywordinfo.csv  prosodic1b  sample_data\n",
            "/content/prosodic1b\n"
          ],
          "name": "stdout"
        }
      ]
    },
    {
      "cell_type": "markdown",
      "metadata": {
        "id": "8OVWqqRCeP7D"
      },
      "source": [
        "Upload edited modipa.py script. Modify phoneme.py in uploaded repository to refer to modipa and not ipa."
      ]
    },
    {
      "cell_type": "code",
      "metadata": {
        "colab": {
          "resources": {
            "http://localhost:8080/nbextensions/google.colab/files.js": {
              "data": "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",
              "ok": true,
              "headers": [
                [
                  "content-type",
                  "application/javascript"
                ]
              ],
              "status": 200,
              "status_text": ""
            }
          },
          "base_uri": "https://localhost:8080/",
          "height": 73
        },
        "id": "vrfVucZifHsG",
        "outputId": "a5a85b6b-8e33-405e-ad0a-e7cf1759166a"
      },
      "source": [
        "from google.colab import files\n",
        "\n",
        "uploaded = files.upload()"
      ],
      "execution_count": null,
      "outputs": [
        {
          "output_type": "display_data",
          "data": {
            "text/html": [
              "\n",
              "     <input type=\"file\" id=\"files-e4d464d0-5412-457a-9a41-135dc563e5ff\" name=\"files[]\" multiple disabled\n",
              "        style=\"border:none\" />\n",
              "     <output id=\"result-e4d464d0-5412-457a-9a41-135dc563e5ff\">\n",
              "      Upload widget is only available when the cell has been executed in the\n",
              "      current browser session. Please rerun this cell to enable.\n",
              "      </output>\n",
              "      <script src=\"/nbextensions/google.colab/files.js\"></script> "
            ],
            "text/plain": [
              "<IPython.core.display.HTML object>"
            ]
          },
          "metadata": {
            "tags": []
          }
        },
        {
          "output_type": "stream",
          "text": [
            "Saving modipa.py to modipa.py\n"
          ],
          "name": "stdout"
        }
      ]
    },
    {
      "cell_type": "markdown",
      "metadata": {
        "id": "rs70fkEAShmk"
      },
      "source": [
        "Extract features and save to .csv file"
      ]
    },
    {
      "cell_type": "code",
      "metadata": {
        "id": "SXo5cinf1pO2"
      },
      "source": [
        "#Get relevant functions\n",
        "#Check the phonemes and add parentheses to ipa.py\n",
        "#doesn't work with modified ipa\n",
        "\n",
        "from Phoneme import Phoneme\n",
        "from ipa import *\n",
        "from ipa import phoneme_feature_string\n",
        "import csv\n",
        "\n",
        "filepath = '/content/draft.csv'\n",
        "fieldnames = ['Phoneme', 'Features']\n",
        "#features = all_features\n",
        "\n",
        "with open('/content/allphonemes.csv', newline='') as csvfile:\n",
        "  data = csv.DictReader(csvfile)\n",
        "  with open(filepath, 'a', newline='') as csvfile:\n",
        "    writer = csv.DictWriter(csvfile, fieldnames=fieldnames)\n",
        "    writer.writeheader()\n",
        "    for row in data:\n",
        "      phon = row['IPA onset']\n",
        "      if not len(phon) == 0:\n",
        "        features = phoneme_feature_string(phon)\n",
        "        myrow = {'Phoneme' : phon, 'Features' : features}\n",
        "        writer.writerow(myrow)"
      ],
      "execution_count": null,
      "outputs": []
    },
    {
      "cell_type": "markdown",
      "metadata": {
        "id": "K5KSEuoG0D9O"
      },
      "source": [
        "Save all the features to a csv where each column represents the value for the feature. Essentially the same code as the previous snippet but each feature has its own column. "
      ]
    },
    {
      "cell_type": "code",
      "metadata": {
        "id": "TWFj6S4o0DWO"
      },
      "source": [
        "from Phoneme import Phoneme\n",
        "from modipa import *\n",
        "from modipa import ipa_to_features\n",
        "import csv\n",
        "\n",
        "filepath = '/content/allfeatures.csv'\n",
        "fieldnames = ['phoneme', 'consonantal', 'sonorant', 'syllabic', 'labial', 'round', 'coronal', 'anterior', 'distributed', 'dorsal', 'high', 'low', 'front', 'back', 'tense', 'pharyngeal', 'ATR',  'voice', 'spread.gl', 'constr.gl','continuant', 'strident', 'lateral', 'delayed.release', 'nasal', 'diphthong']\n",
        "features = all_features\n",
        "\n",
        "with open('/content/allphonemes.csv', newline='') as csvfile:\n",
        "  data = csv.DictReader(csvfile)\n",
        "  with open(filepath, 'a', newline='') as csvfile:\n",
        "    writer = csv.DictWriter(csvfile, fieldnames=fieldnames)\n",
        "    writer.writeheader()\n",
        "    for row in data:\n",
        "      phon = row['IPA onset']\n",
        "      myrow = {'Phoneme': phon}\n",
        "      if not len(phon) == 0:\n",
        "          dicts = { }\n",
        "          keys = features\n",
        "          for i in features:\n",
        "            value = ipa_to_features[phon][i]\n",
        "            dicts[i] = value\n",
        "          myrow = {**myrow, **dicts}\n",
        "          writer.writerow(myrow)"
      ],
      "execution_count": null,
      "outputs": []
    },
    {
      "cell_type": "markdown",
      "metadata": {
        "id": "zy9YNYUNL_2g"
      },
      "source": [
        "## Dissimilarity matrices"
      ]
    },
    {
      "cell_type": "markdown",
      "metadata": {
        "id": "Hf39dnpZJPJi"
      },
      "source": [
        "### Phonological model"
      ]
    },
    {
      "cell_type": "markdown",
      "metadata": {
        "id": "AsObDmB5a2bO"
      },
      "source": [
        "Create vectors for each phoneme. The phonemes are not saved nor are the feature names. Consult the previously generated csv files for a key. Save variables via pickle if needed."
      ]
    },
    {
      "cell_type": "code",
      "metadata": {
        "id": "WaiMPD31a6t8"
      },
      "source": [
        "import csv\n",
        "from modipa import *\n",
        "import pickle \n",
        "\n",
        "with open('/content/allfeatures.csv', newline='') as csvfile:\n",
        "  data = csv.reader(csvfile)\n",
        "  valuelist = [ ]\n",
        "  featurematrix = [ ]\n",
        "  next(data)\n",
        "  \n",
        "  for row in data:\n",
        "      for x in range(1,24):\n",
        "        feature = all_features[x-1]\n",
        "        if row[x] == 'TRUE': #switch to 'True' if using internally generated csv file\n",
        "          valuelist.append(1)\n",
        "        elif row[x] == 'FALSE': #switch to 'False' if using internally generated csv file\n",
        "          valuelist.append(0.5)\n",
        "        else:\n",
        "           valuelist.append(None)\n",
        "      featurematrix.append(valuelist)\n",
        "      valuelist = [ ] #has to be cleared with every loop                    "
      ],
      "execution_count": null,
      "outputs": []
    },
    {
      "cell_type": "markdown",
      "metadata": {
        "id": "W-biZpHFrqfz"
      },
      "source": [
        "Create feature matrix and comparison matrix between phonemes. "
      ]
    },
    {
      "cell_type": "code",
      "metadata": {
        "id": "H2xF-kC92-LQ"
      },
      "source": [
        "import numpy as np\n",
        "import pandas as pd\n",
        "import pickle              \n",
        "\n",
        "file = open('featurematrix.p', 'rb') #only necessary when the previous codes have not been run \n",
        "featurematrix = pickle.load(file)     \n",
        "file.close()                       \n",
        "\n",
        "\n",
        "feature_array = pd.DataFrame(featurematrix)\n",
        "#if not using edited feature sheet then feature_array.columns = all_features\n",
        "feature_array.columns = ['consonantal', 'sonorant', 'syllabic', 'labial', 'round', 'coronal', 'anterior', 'distributed', 'dorsal', 'high', 'low', 'front', 'back', 'tense', 'pharyngeal', 'ATR', 'voice', 'spread.gl', 'continuant', 'strident', 'lateral', 'nasal','diphthong']\n",
        "#feature_array contains the values in the csv recoded into vectors\n",
        "\n",
        "data = feature_array.values\n",
        "n = data.shape[0]\n",
        "N = n*(n-1)//2\n",
        "idx = np.concatenate(( [0], np.arange(n-1,0,-1).cumsum() ))\n",
        "start, stop = idx[:-1], idx[1:]\n",
        "out = np.empty((N,data.shape[1]+2),dtype=int)\n",
        "for j,i in enumerate(range(n-1)):\n",
        "    s0,s1 = start[j],stop[j]\n",
        "    out[s0:s1,:-2] = data[i,None] == data[i+1:]\n",
        "    out[s0:s1,-2] = j\n",
        "    out[s0:s1,-1] = np.arange(j+1,n)\n",
        "\n",
        "#creates array out where each row represents the comparison of one segment's features with the other\n",
        "\n",
        "matrix = pd.DataFrame(out[:,:23])\n",
        "segment1 = pd.DataFrame(out[:,23])\n",
        "segment2 = pd.DataFrame(out[:,24])\n",
        "matrix.columns = ['consonantal', 'sonorant', 'syllabic', 'labial', 'round', 'coronal', 'anterior', 'distributed', 'dorsal', 'high', 'low', 'front', 'back', 'tense', 'pharyngeal', 'ATR', 'voice', 'spread.gl', 'continuant', 'strident', 'lateral', 'nasal','diphthong'] \n",
        "\n",
        "#each line logs whether or not the cells are the same \n",
        "m_sum = matrix.sum(axis=1)\n",
        "\n",
        "matrix['segment 1'] = segment1\n",
        "matrix['segment 2'] = segment2\n",
        "matrix['dissimilarity'] = 1 - (m_sum/ data.shape[1])\n",
        "\n",
        "#matrix.to_excel('phonRDM.xlsx', index=False) #to save to file ; next line of code saves the variable so that previous lines of code do not need to be rerun            \n",
        "\n",
        "#file = open('phonmatrix.p', 'wb')  \n",
        "#pickle.dump(matrix, file)          \n",
        "#file.close()\n",
        "\n"
      ],
      "execution_count": null,
      "outputs": []
    },
    {
      "cell_type": "markdown",
      "metadata": {
        "id": "cWmcsh6XL5dh"
      },
      "source": [
        "Create matrix."
      ]
    },
    {
      "cell_type": "code",
      "metadata": {
        "id": "qOipmwG2L_12"
      },
      "source": [
        "import pickle \n",
        "import numpy as np\n",
        "\n",
        "#not needed if previous lines of code have been run \n",
        "\n",
        "#file = open('phonmatrix.p', 'rb')\n",
        "#matrix = pickle.load(file)      \n",
        "#file.close() \n",
        "\n",
        "pmatrix = np.zeros((28,28))\n",
        "\n",
        "m = matrix.values\n",
        "m = m[:,23:]\n",
        "n = m.shape[0]\n",
        "\n",
        "for k in range(n):\n",
        "  i = int(m[k,0])\n",
        "  j = int(m[k,1])\n",
        "  h = m[k,2]\n",
        "  pmatrix[i,j] = h\n",
        "  pmatrix[j,i] = pmatrix[i,j]\n",
        "\n",
        "pmatrix\n",
        "scipy.io.savemat('pmatrix.mat', mdict={'pmatrix': pmatrix})\n",
        "\n",
        "#file = open('pmatrix.p', 'wb')  \n",
        "#pickle.dump(pmatrix, file)          \n",
        "#file.close()"
      ],
      "execution_count": null,
      "outputs": []
    },
    {
      "cell_type": "markdown",
      "metadata": {
        "id": "Yeic5lKFJWr6"
      },
      "source": [
        "### Semantic model"
      ]
    },
    {
      "cell_type": "markdown",
      "metadata": {
        "id": "JIMonn-EJb-F"
      },
      "source": [
        "Upload the necessary files. Not needed if running the whole pipeline in one go. "
      ]
    },
    {
      "cell_type": "code",
      "metadata": {
        "colab": {
          "resources": {
            "http://localhost:8080/nbextensions/google.colab/files.js": {
              "data": "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",
              "ok": true,
              "headers": [
                [
                  "content-type",
                  "application/javascript"
                ]
              ],
              "status": 200,
              "status_text": ""
            }
          },
          "base_uri": "https://localhost:8080/",
          "height": 73
        },
        "id": "oSealsV7J4g-",
        "outputId": "8f755cc0-0859-4747-bd5d-3c7c5304f006"
      },
      "source": [
        "from google.colab import files\n",
        "\n",
        "uploaded = files.upload()"
      ],
      "execution_count": null,
      "outputs": [
        {
          "output_type": "display_data",
          "data": {
            "text/html": [
              "\n",
              "     <input type=\"file\" id=\"files-061a88bf-6eaf-4480-afda-29575dc968da\" name=\"files[]\" multiple disabled\n",
              "        style=\"border:none\" />\n",
              "     <output id=\"result-061a88bf-6eaf-4480-afda-29575dc968da\">\n",
              "      Upload widget is only available when the cell has been executed in the\n",
              "      current browser session. Please rerun this cell to enable.\n",
              "      </output>\n",
              "      <script src=\"/nbextensions/google.colab/files.js\"></script> "
            ],
            "text/plain": [
              "<IPython.core.display.HTML object>"
            ]
          },
          "metadata": {
            "tags": []
          }
        },
        {
          "output_type": "stream",
          "text": [
            "Saving allvectors.csv to allvectors.csv\n"
          ],
          "name": "stdout"
        }
      ]
    },
    {
      "cell_type": "markdown",
      "metadata": {
        "id": "nYEG-JGvgtm2"
      },
      "source": [
        "Set up the vector file to make it compatible with pairwise calculations."
      ]
    },
    {
      "cell_type": "code",
      "metadata": {
        "id": "qfcFf2MJgY6-"
      },
      "source": [
        "import pandas as pd\n",
        "import numpy as np\n",
        "\n",
        "\n",
        "\n",
        "df = pd.read_csv('allvectors2.csv', sep=\",\", converters={'vector': eval})\n",
        "label = df['word']\n",
        "l = df.shape[0]\n",
        "\n",
        "data = np.zeros((l,300))\n",
        "u = df.loc[2,'vector'] #localize specific cell to test structure\n",
        "\n",
        "for i in df.index:\n",
        "  u = df.loc[i,'vector']\n",
        "  data[i] = np.asarray(u)"
      ],
      "execution_count": null,
      "outputs": []
    },
    {
      "cell_type": "markdown",
      "metadata": {
        "id": "YPUWXmEXBtec"
      },
      "source": [
        "Calculate dissimilarity and save variable."
      ]
    },
    {
      "cell_type": "code",
      "metadata": {
        "id": "yqrmMJ_2J1jG"
      },
      "source": [
        "import numpy as np\n",
        "from sklearn.metrics.pairwise import cosine_similarity\n",
        "import pickle\n",
        "\n",
        "vmatrix = 1 - cosine_similarity(data)\n",
        "#scipy.io.savemat('vmatrix.mat', mdict={'vmatrix': vmatrix})\n",
        "\n",
        "#file = open('vmatrix.p', 'wb')  \n",
        "#pickle.dump(vmatrix, file)          \n",
        "#file.close()"
      ],
      "execution_count": null,
      "outputs": []
    },
    {
      "cell_type": "code",
      "metadata": {
        "id": "dtfXxbH0vyMC"
      },
      "source": [
        "vmatrix"
      ],
      "execution_count": null,
      "outputs": []
    },
    {
      "cell_type": "code",
      "metadata": {
        "id": "QWg3fsrCg5hR"
      },
      "source": [
        "import numpy as np, scipy.io, pickle\n",
        "\n",
        "file = open('pmatrix.p', 'rb')\n",
        "pmatrix = pickle.load(file)      \n",
        "file.close() \n",
        "scipy.io.savemat('pmatrix.mat', mdict={'pmatrix': pmatrix})\n",
        "\n",
        "file = open('vmatrix.p', 'rb')\n",
        "vmatrix = pickle.load(file)      \n",
        "file.close() \n",
        "scipy.io.savemat('vmatrix.mat', mdict={'vmatrix': vmatrix})\n"
      ],
      "execution_count": null,
      "outputs": []
    },
    {
      "cell_type": "markdown",
      "metadata": {
        "id": "Q_d2ySEhPlKG"
      },
      "source": [
        "### Heatmaps and figures"
      ]
    },
    {
      "cell_type": "code",
      "metadata": {
        "id": "C-dIg_NUQzOL"
      },
      "source": [
        "import pickle              \n",
        "\n",
        "file = open('pmatrix.p', 'rb') #only necessary when the previous codes have not been run \n",
        "pmatrix = pickle.load(file)     \n",
        "file.close()       "
      ],
      "execution_count": null,
      "outputs": []
    },
    {
      "cell_type": "code",
      "metadata": {
        "id": "rUV9lxrx63HH"
      },
      "source": [
        "xlabel=[None, None, None, None, 'Food', None, None,\n",
        "       None, None, None, None, None,'Locations',\n",
        "       None, None, None, None, None, None, None,\n",
        "       'People', None, None, None]\n",
        "ylabel=[None, None, None, 'Food', None, None, None,\n",
        "       None, None, None, None, 'Locations',None,\n",
        "       None, None, None, None, None, None, 'People',\n",
        "       None, None, None, None]"
      ],
      "execution_count": null,
      "outputs": []
    },
    {
      "cell_type": "markdown",
      "metadata": {
        "id": "w1rNVZunPuLD"
      },
      "source": [
        "The following code creates heatmaps to plot the similarities. "
      ]
    },
    {
      "cell_type": "code",
      "metadata": {
        "colab": {
          "base_uri": "https://localhost:8080/",
          "height": 625
        },
        "id": "wrLmxn10PrLe",
        "outputId": "0160e018-7cb5-4b1f-ff05-a98faa00ad67"
      },
      "source": [
        "import seaborn as sns\n",
        "import matplotlib.pylab as plt\n",
        "from mpl_toolkits.axes_grid1 import make_axes_locatable\n",
        "import pandas as pd\n",
        "\n",
        "\n",
        "#setting up the heatmap\n",
        "sns.set_theme(style=\"white\")\n",
        "sns.set_context(context='paper', font_scale=1.5)\n",
        "\n",
        "f,ax = plt.subplots(figsize=(11, 11))\n",
        "\n",
        "divider = make_axes_locatable(ax)\n",
        "cax = divider.append_axes(\"right\", size=\"5%\", pad=0.25)\n",
        "ax = sns.heatmap(vm, cmap='YlGnBu_r', vmin=0, vmax=1, xticklabels=xlabel, yticklabels=ylabel, square=True, ax=ax,cbar_ax=cax)\n",
        "\n",
        "plt.savefig(\"SemanticmodelRDM.svg\", dpi=300, transparent=True)"
      ],
      "execution_count": null,
      "outputs": [
        {
          "output_type": "display_data",
          "data": {
            "image/png": "[encoded data removed]",
            "text/plain": [
              "<Figure size 792x792 with 2 Axes>"
            ]
          },
          "metadata": {
            "tags": []
          }
        }
      ]
    },
    {
      "cell_type": "code",
      "metadata": {
        "colab": {
          "base_uri": "https://localhost:8080/",
          "height": 887
        },
        "id": "cpr-uUHOsA2O",
        "outputId": "a8b155a8-ca33-4723-a77a-ccfe0e2db78b"
      },
      "source": [
        "import seaborn as sns\n",
        "import matplotlib.pylab as plt\n",
        "from mpl_toolkits.axes_grid1 import make_axes_locatable\n",
        "\n",
        "#separate phonological heatmap\n",
        "sns.set_theme(style=\"white\")\n",
        "sns.set_context(context='paper', font_scale=1.5)\n",
        "fig,ax2 = plt.subplots(figsize=(11, 11))\n",
        "labels = ['ɑ','a','b','d','ɛ','e','f','h','ɪ','j','k','ɛi','l','œy','m','ɔu','n','o','ɔ','p','r','s','t','v','w','x','y','z']\n",
        "\n",
        "divider = make_axes_locatable(ax2)\n",
        "cax = divider.append_axes(\"right\", size=\"5%\", pad=0.25)\n",
        "ax2 = sns.heatmap(pmatrix, cmap='YlGnBu_r', vmin=0, vmax=1, ax=ax2, xticklabels=labels, yticklabels=labels, square=True, cbar_ax=cax)\n",
        "#ax2.collections[0].colorbar.set_label('Dissimilarity', rotation=270)\n",
        "\n",
        "plt.savefig(\"PhonRDMmodel.png\", transparent=True, dpi=300)"
      ],
      "execution_count": null,
      "outputs": [
        {
          "output_type": "error",
          "ename": "NameError",
          "evalue": "ignored",
          "traceback": [
            "\u001b[0;31m---------------------------------------------------------------------------\u001b[0m",
            "\u001b[0;31mNameError\u001b[0m                                 Traceback (most recent call last)",
            "\u001b[0;32m<ipython-input-1-6d75dbe93a4d>\u001b[0m in \u001b[0;36m<module>\u001b[0;34m()\u001b[0m\n\u001b[1;32m     11\u001b[0m \u001b[0mdivider\u001b[0m \u001b[0;34m=\u001b[0m \u001b[0mmake_axes_locatable\u001b[0m\u001b[0;34m(\u001b[0m\u001b[0max2\u001b[0m\u001b[0;34m)\u001b[0m\u001b[0;34m\u001b[0m\u001b[0;34m\u001b[0m\u001b[0m\n\u001b[1;32m     12\u001b[0m \u001b[0mcax\u001b[0m \u001b[0;34m=\u001b[0m \u001b[0mdivider\u001b[0m\u001b[0;34m.\u001b[0m\u001b[0mappend_axes\u001b[0m\u001b[0;34m(\u001b[0m\u001b[0;34m\"right\"\u001b[0m\u001b[0;34m,\u001b[0m \u001b[0msize\u001b[0m\u001b[0;34m=\u001b[0m\u001b[0;34m\"5%\"\u001b[0m\u001b[0;34m,\u001b[0m \u001b[0mpad\u001b[0m\u001b[0;34m=\u001b[0m\u001b[0;36m0.25\u001b[0m\u001b[0;34m)\u001b[0m\u001b[0;34m\u001b[0m\u001b[0;34m\u001b[0m\u001b[0m\n\u001b[0;32m---> 13\u001b[0;31m \u001b[0max2\u001b[0m \u001b[0;34m=\u001b[0m \u001b[0msns\u001b[0m\u001b[0;34m.\u001b[0m\u001b[0mheatmap\u001b[0m\u001b[0;34m(\u001b[0m\u001b[0mpmatrix\u001b[0m\u001b[0;34m,\u001b[0m \u001b[0mcmap\u001b[0m\u001b[0;34m=\u001b[0m\u001b[0;34m'YlGnBu_r'\u001b[0m\u001b[0;34m,\u001b[0m \u001b[0mvmin\u001b[0m\u001b[0;34m=\u001b[0m\u001b[0;36m0\u001b[0m\u001b[0;34m,\u001b[0m \u001b[0mvmax\u001b[0m\u001b[0;34m=\u001b[0m\u001b[0;36m1\u001b[0m\u001b[0;34m,\u001b[0m \u001b[0max\u001b[0m\u001b[0;34m=\u001b[0m\u001b[0max2\u001b[0m\u001b[0;34m,\u001b[0m \u001b[0mxticklabels\u001b[0m\u001b[0;34m=\u001b[0m\u001b[0mlabels\u001b[0m\u001b[0;34m,\u001b[0m \u001b[0myticklabels\u001b[0m\u001b[0;34m=\u001b[0m\u001b[0mlabels\u001b[0m\u001b[0;34m,\u001b[0m \u001b[0msquare\u001b[0m\u001b[0;34m=\u001b[0m\u001b[0;32mTrue\u001b[0m\u001b[0;34m,\u001b[0m \u001b[0mcbar_ax\u001b[0m\u001b[0;34m=\u001b[0m\u001b[0mcax\u001b[0m\u001b[0;34m)\u001b[0m\u001b[0;34m\u001b[0m\u001b[0;34m\u001b[0m\u001b[0m\n\u001b[0m\u001b[1;32m     14\u001b[0m \u001b[0;31m#ax2.collections[0].colorbar.set_label('Dissimilarity', rotation=270)\u001b[0m\u001b[0;34m\u001b[0m\u001b[0;34m\u001b[0m\u001b[0;34m\u001b[0m\u001b[0m\n\u001b[1;32m     15\u001b[0m \u001b[0;34m\u001b[0m\u001b[0m\n",
            "\u001b[0;31mNameError\u001b[0m: name 'pmatrix' is not defined"
          ]
        },
        {
          "output_type": "display_data",
          "data": {
            "image/png": "[encoded data removed]",
            "text/plain": [
              "<Figure size 792x792 with 2 Axes>"
            ]
          },
          "metadata": {
            "tags": []
          }
        }
      ]
    },
    {
      "cell_type": "markdown",
      "metadata": {
        "id": "XReLaNqZQBR8"
      },
      "source": [
        "## Word condition: onsets and position"
      ]
    },
    {
      "cell_type": "markdown",
      "metadata": {
        "id": "3qR-7ydRQPbJ"
      },
      "source": [
        "This section maps the words as early or late according to the pauses in the transcript. "
      ]
    },
    {
      "cell_type": "code",
      "metadata": {
        "id": "ySVgnCLOQauM",
        "colab": {
          "resources": {
            "http://localhost:8080/nbextensions/google.colab/files.js": {
              "data": "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",
              "ok": true,
              "headers": [
                [
                  "content-type",
                  "application/javascript"
                ]
              ],
              "status": 200,
              "status_text": ""
            }
          },
          "base_uri": "https://localhost:8080/",
          "height": 141
        },
        "outputId": "cce50ab1-0e29-43f5-afde-22f839afea6b"
      },
      "source": [
        "from google.colab import files\n",
        "\n",
        "uploaded = files.upload()"
      ],
      "execution_count": null,
      "outputs": [
        {
          "output_type": "display_data",
          "data": {
            "text/html": [
              "\n",
              "     <input type=\"file\" id=\"files-37df8534-8575-497d-86df-525fb9035fab\" name=\"files[]\" multiple disabled\n",
              "        style=\"border:none\" />\n",
              "     <output id=\"result-37df8534-8575-497d-86df-525fb9035fab\">\n",
              "      Upload widget is only available when the cell has been executed in the\n",
              "      current browser session. Please rerun this cell to enable.\n",
              "      </output>\n",
              "      <script src=\"/nbextensions/google.colab/files.js\"></script> "
            ],
            "text/plain": [
              "<IPython.core.display.HTML object>"
            ]
          },
          "metadata": {
            "tags": []
          }
        },
        {
          "output_type": "stream",
          "text": [
            "Saving allphonemes.csv to allphonemes.csv\n",
            "Saving earlywordinfo.csv to earlywordinfo.csv\n",
            "Saving allfeatures.csv to allfeatures.csv\n"
          ],
          "name": "stdout"
        }
      ]
    },
    {
      "cell_type": "code",
      "metadata": {
        "id": "gIWmG_4K1-YS"
      },
      "source": [
        "import numpy as np\n",
        "import pandas as pd\n",
        "\n",
        "\n",
        "#read the audiobook parts into variables; to clean up make this a function with the variable text \n",
        "\n",
        "nlp = spacy.load(\"nl_core_news_lg\")\n",
        "text = '20grimm2.txt'\n",
        "document = open(text).read()\n",
        "doc = nlp(document)\n",
        "fieldnames = ['word', 'position','sposition', 'condition', 'POS']\n",
        "df = pd.DataFrame(columns=fieldnames)\n",
        "\n",
        "\n",
        "position = 0 \n",
        "relpos = 0 \n",
        "sentence = 0 \n",
        "oldsentence = 0\n",
        "for i in doc: \n",
        "  if i.text != \"P\":\n",
        "    sentence = sentence + 1 \n",
        "    continue\n",
        "  else:\n",
        "    for j in doc:\n",
        "      if j.text != \"P\":\n",
        "        continue\n",
        "      else:\n",
        "        length = sentence\n",
        "        sentence = oldsentence + sentence \n",
        "        for token in doc: \n",
        "          for x in range(oldsentence, sentence):\n",
        "            relpos = relpos + 1   #relative position used to calculate the condition\n",
        "            position = position + 1  #absolute position to be compared with previous file\n",
        "            if relpos <= length / 2: index = 'early'\n",
        "            else: index = 'late'\n",
        "            myrow = {'sposition': relpos, 'condition': index, 'position': position}\n",
        "            df = df.append(myrow, ignore_index=True)\n",
        "            #print(myrow)\n",
        "          break #bigger for loop \n",
        "        break #else loop  \n",
        "      break #biggest for loop   \n",
        "  oldsentence = sentence\n",
        "  sentence = 0\n",
        "  relpos = 0\n",
        "  continue\n"
      ],
      "execution_count": null,
      "outputs": []
    },
    {
      "cell_type": "markdown",
      "metadata": {
        "id": "gdBjqJaJl8v7"
      },
      "source": [
        "Make sure to check that the words extracted from praat correspond exactly to the words in the text. This needs to be done manually as well as recoding the pauses from \\<P> to P and removing all punctuation. "
      ]
    },
    {
      "cell_type": "markdown",
      "metadata": {
        "id": "7fQTFyJzzHR_"
      },
      "source": [
        "Add words to position and condition dataframe. "
      ]
    },
    {
      "cell_type": "code",
      "metadata": {
        "id": "cIelSybiuysF"
      },
      "source": [
        "a = 0\n",
        "for i in doc: \n",
        "  if i.text != \"P\":\n",
        "      df.loc[a,'word'] = i.text\n",
        "      df.loc[a,'POS'] = i.pos_\n",
        "      #print(df.loc[a,'word']) useful to check which words were parsed wrong\n",
        "      a = a + 1\n",
        "  else:\n",
        "    continue"
      ],
      "execution_count": null,
      "outputs": []
    },
    {
      "cell_type": "markdown",
      "metadata": {
        "id": "6wekQtv84o1i"
      },
      "source": [
        "Add the word start and end times and the duration and filename and save only the nouns. "
      ]
    },
    {
      "cell_type": "code",
      "metadata": {
        "id": "p-iInSb84oci"
      },
      "source": [
        "times = pd.read_csv('20grimm2.csv', sep=\",\", converters={'vector': eval}, encoding='latin-1')\n",
        "df2 = times[['start', 'end', 'duration', 'file']] #comment this out to check the length of the extracted .csv\n",
        "df = pd.concat([df, df2], axis=1)\n",
        "\n",
        "times['word']"
      ],
      "execution_count": null,
      "outputs": []
    },
    {
      "cell_type": "markdown",
      "metadata": {
        "id": "uEeX1-bZQtdg"
      },
      "source": [
        "Extract nouns and save to csv."
      ]
    },
    {
      "cell_type": "code",
      "metadata": {
        "id": "NRFF3Yg-Qsx4"
      },
      "source": [
        "df3 = df[df.POS == 'NOUN']\n",
        "df3.to_csv('20grimm2final.csv', index=False)"
      ],
      "execution_count": null,
      "outputs": []
    },
    {
      "cell_type": "markdown",
      "metadata": {
        "id": "tAvRYON3EBMe"
      },
      "source": [
        "## Subject specific RDM"
      ]
    },
    {
      "cell_type": "markdown",
      "metadata": {
        "id": "zOIV9l8xEHv-"
      },
      "source": [
        "The previous section contained code generating generic model RDMs for the nouns present in all the texts. The following section contains code tailored to the word present in the finaldata for each subject and separated by condition. "
      ]
    },
    {
      "cell_type": "code",
      "metadata": {
        "id": "BW94rE5-ZW2o"
      },
      "source": [
        "# get subject specific order (download info .mat file)\n",
        "\n",
        "import pandas as pd, scipy.io, numpy as np\n",
        "from scipy.io import loadmat\n",
        "from pandas.api.types import CategoricalDtype\n",
        "\n",
        "info = loadmat('sub001_info.mat')\n",
        "\n",
        "order_list = info['stimOrder']\n",
        "newData = list(zip(order_list[:,0], order_list[:,1]))\n",
        "columns = ['story', 'story_part']\n",
        "order = pd.DataFrame(newData, columns=columns)\n",
        "order1 = order.drop_duplicates(subset='story')\n",
        "\n",
        "# order the sheet according to the subject and select the early and late word infos \n",
        "\n",
        "wi = pd.read_csv('/content/wordinfo.csv')\n",
        "\n",
        "s = list(order1['story'])\n",
        "\n",
        "cat_story_order = CategoricalDtype(s, ordered=True)   #create categories for easier sorting \n",
        "cat_part_order = CategoricalDtype([1, 2, 3, 4], ordered=True)\n",
        "\n",
        "wi['story'] = wi['story'].astype(cat_story_order)\n",
        "wi['story_part'] = wi['story_part'].astype(cat_part_order)\n",
        "\n",
        "wi.sort_values(by=['story','story_part'], ignore_index=True, inplace=True)\n",
        "\n",
        "wi.to_csv('sub001_wordinfo.csv', index=False) #change per subject\n",
        "\n",
        "#save early and late words as separate variables and reset index\n",
        "\n",
        "earlywordinfo = wi[wi['condition'] == 100]\n",
        "latewordinfo = wi[wi['condition'] == 300]\n",
        "\n"
      ],
      "execution_count": null,
      "outputs": []
    },
    {
      "cell_type": "markdown",
      "metadata": {
        "id": "9BfEhTOOAdG-"
      },
      "source": [
        "The following code is needed instead if the stories are not ordered chronologically in the data"
      ]
    },
    {
      "cell_type": "code",
      "metadata": {
        "id": "G3uLkmpdAZeM"
      },
      "source": [
        "import pandas as pd, scipy.io, numpy as np\n",
        "\n",
        "wi = pd.read_csv('/content/wordinfo.csv') #maybe reset index to start from 1???\n",
        "earlywordinfo = wi[wi['condition'] == 100]\n",
        "\n",
        "#earlywordinfo.to_excel('early_words.xlsx') #to save to file; add counter to track in final matrix\n",
        "\n",
        "latewordinfo = wi[wi['condition'] == 300]\n",
        "\n",
        "#latewordinfo.to_excel('late_words.xlsx') #to save to file; add counter to track in final matrix"
      ],
      "execution_count": null,
      "outputs": []
    },
    {
      "cell_type": "code",
      "metadata": {
        "id": "0UNaxhKcFRGO"
      },
      "source": [
        "feature_m"
      ],
      "execution_count": null,
      "outputs": []
    },
    {
      "cell_type": "markdown",
      "metadata": {
        "id": "SnuBTJo1Iqyz"
      },
      "source": [
        "### Phonological RDM"
      ]
    },
    {
      "cell_type": "code",
      "metadata": {
        "id": "aopr6iyAI-u8"
      },
      "source": [
        "import csv, numpy as np\n",
        "\n",
        "def createfeaturechart(wordinfo):\n",
        "  #creates subject specific feature chart given the condition separated word info files\n",
        "  df = wordinfo \n",
        "  df1 = pd.read_csv('/content/allphonemes.csv')\n",
        "  df2 = pd.read_csv('/content/allfeatures.csv') #features have been vectorized already\n",
        "  fm = pd.DataFrame(columns=['word','phoneme','consonantal', 'sonorant', 'syllabic', 'labial', 'round', 'coronal', 'anterior', 'distributed', 'dorsal', 'high', 'low', 'front', 'back', 'tense', 'pharyngeal', 'ATR',  'voice', 'spread.gl', 'constr.gl','continuant', 'strident', 'lateral', 'delayed.release', 'nasal', 'diphthong'])\n",
        "  n = wordinfo.index     #n = df.shape[0] if using normal indices\n",
        "  m = df1.shape[0]\n",
        "  o = df2.shape[0]\n",
        "  for i in n: \n",
        "    w = df.loc[i,'word']\n",
        "    fm.loc[i,'word'] = w\n",
        "    for j in range(m): \n",
        "      x = df1.loc[j,'Word']\n",
        "      z = df1.loc[j,'IPAonset']\n",
        "      if x == w:             \n",
        "        fm.loc[i,'phoneme'] = z\n",
        "        for k in range(o):\n",
        "          y = df2.loc[k, 'Phoneme']\n",
        "          if y == z:\n",
        "            fm.loc[i,'consonantal':] = df2.loc[k,'consonantal':]\n",
        "  return fm\n",
        "\n",
        "feature_m = createfeaturechart(latewordinfo)\n"
      ],
      "execution_count": null,
      "outputs": []
    },
    {
      "cell_type": "code",
      "metadata": {
        "id": "KvDT7pOVp9UK",
        "colab": {
          "base_uri": "https://localhost:8080/",
          "height": 456
        },
        "outputId": "a029f1f4-6863-4803-8516-2d636c7aebbd"
      },
      "source": [
        "def removewords(table):\n",
        "  # remove words that don't exist\n",
        "  index_with_nan = table.index[table.phoneme.isnull()]\n",
        "  table.drop(index_with_nan,0, inplace=True)\n",
        "  # remove useless features\n",
        "  table = table.dropna(axis=1, how='all', inplace=True)\n",
        "  index_with_nan = [x+1 for x in list(index_with_nan)]\n",
        "  print(index_with_nan)\n",
        "  return table\n",
        "  \n",
        "\n",
        "removewords(feature_m)\n",
        "\n",
        "feature_m"
      ],
      "execution_count": null,
      "outputs": [
        {
          "output_type": "stream",
          "text": [
            "[8, 13, 14, 23, 44, 66, 71, 106, 108, 112, 116, 122, 134, 137, 138, 153, 174, 199, 202, 211, 221, 236, 240, 255, 256, 275, 296, 298, 333, 366, 383, 387, 403, 424, 432, 446, 477, 490, 507, 511, 514, 521, 545, 546, 549, 586, 590, 601, 602, 612, 620, 630, 637, 651, 659, 678, 682, 683, 714, 720, 723, 724, 737, 795, 828, 831, 885, 929, 940, 948, 965, 967, 1027, 1051, 1062, 1112, 1117, 1119, 1121, 1137, 1186, 1198, 1207, 1217, 1222, 1230, 1233, 1237, 1244, 1250, 1251, 1295, 1320, 1326, 1327, 1329, 1331, 1333]\n"
          ],
          "name": "stdout"
        },
        {
          "output_type": "execute_result",
          "data": {
            "text/html": [
              "<div>\n",
              "<style scoped>\n",
              "    .dataframe tbody tr th:only-of-type {\n",
              "        vertical-align: middle;\n",
              "    }\n",
              "\n",
              "    .dataframe tbody tr th {\n",
              "        vertical-align: top;\n",
              "    }\n",
              "\n",
              "    .dataframe thead th {\n",
              "        text-align: right;\n",
              "    }\n",
              "</style>\n",
              "<table border=\"1\" class=\"dataframe\">\n",
              "  <thead>\n",
              "    <tr style=\"text-align: right;\">\n",
              "      <th></th>\n",
              "      <th>word</th>\n",
              "      <th>phoneme</th>\n",
              "      <th>consonantal</th>\n",
              "      <th>sonorant</th>\n",
              "      <th>syllabic</th>\n",
              "      <th>labial</th>\n",
              "      <th>round</th>\n",
              "      <th>coronal</th>\n",
              "      <th>anterior</th>\n",
              "      <th>distributed</th>\n",
              "      <th>dorsal</th>\n",
              "      <th>high</th>\n",
              "      <th>low</th>\n",
              "      <th>front</th>\n",
              "      <th>back</th>\n",
              "      <th>tense</th>\n",
              "      <th>pharyngeal</th>\n",
              "      <th>ATR</th>\n",
              "      <th>voice</th>\n",
              "      <th>spread.gl</th>\n",
              "      <th>continuant</th>\n",
              "      <th>strident</th>\n",
              "      <th>lateral</th>\n",
              "      <th>nasal</th>\n",
              "      <th>diphthong</th>\n",
              "    </tr>\n",
              "  </thead>\n",
              "  <tbody>\n",
              "    <tr>\n",
              "      <th>0</th>\n",
              "      <td>land</td>\n",
              "      <td>l</td>\n",
              "      <td>1</td>\n",
              "      <td>1</td>\n",
              "      <td>0.5</td>\n",
              "      <td>0.5</td>\n",
              "      <td>0</td>\n",
              "      <td>1</td>\n",
              "      <td>1</td>\n",
              "      <td>0.5</td>\n",
              "      <td>0.5</td>\n",
              "      <td>0</td>\n",
              "      <td>0</td>\n",
              "      <td>0</td>\n",
              "      <td>0</td>\n",
              "      <td>0</td>\n",
              "      <td>0.5</td>\n",
              "      <td>0</td>\n",
              "      <td>1</td>\n",
              "      <td>0.5</td>\n",
              "      <td>1</td>\n",
              "      <td>0.5</td>\n",
              "      <td>1</td>\n",
              "      <td>0.5</td>\n",
              "      <td>0</td>\n",
              "    </tr>\n",
              "    <tr>\n",
              "      <th>2</th>\n",
              "      <td>koren</td>\n",
              "      <td>k</td>\n",
              "      <td>1</td>\n",
              "      <td>0.5</td>\n",
              "      <td>0.5</td>\n",
              "      <td>0.5</td>\n",
              "      <td>0</td>\n",
              "      <td>0.5</td>\n",
              "      <td>0</td>\n",
              "      <td>0</td>\n",
              "      <td>1</td>\n",
              "      <td>1</td>\n",
              "      <td>0.5</td>\n",
              "      <td>0.5</td>\n",
              "      <td>1</td>\n",
              "      <td>0.5</td>\n",
              "      <td>0.5</td>\n",
              "      <td>0</td>\n",
              "      <td>0.5</td>\n",
              "      <td>0.5</td>\n",
              "      <td>0.5</td>\n",
              "      <td>0.5</td>\n",
              "      <td>0.5</td>\n",
              "      <td>0.5</td>\n",
              "      <td>0</td>\n",
              "    </tr>\n",
              "    <tr>\n",
              "      <th>6</th>\n",
              "      <td>ooievaar</td>\n",
              "      <td>o</td>\n",
              "      <td>0.5</td>\n",
              "      <td>1</td>\n",
              "      <td>1</td>\n",
              "      <td>1</td>\n",
              "      <td>1</td>\n",
              "      <td>0.5</td>\n",
              "      <td>0</td>\n",
              "      <td>0</td>\n",
              "      <td>1</td>\n",
              "      <td>0.5</td>\n",
              "      <td>0.5</td>\n",
              "      <td>0.5</td>\n",
              "      <td>1</td>\n",
              "      <td>1</td>\n",
              "      <td>1</td>\n",
              "      <td>1</td>\n",
              "      <td>1</td>\n",
              "      <td>0.5</td>\n",
              "      <td>1</td>\n",
              "      <td>0.5</td>\n",
              "      <td>0.5</td>\n",
              "      <td>0.5</td>\n",
              "      <td>0.5</td>\n",
              "    </tr>\n",
              "    <tr>\n",
              "      <th>9</th>\n",
              "      <td>moeder</td>\n",
              "      <td>m</td>\n",
              "      <td>1</td>\n",
              "      <td>1</td>\n",
              "      <td>0.5</td>\n",
              "      <td>1</td>\n",
              "      <td>0.5</td>\n",
              "      <td>0.5</td>\n",
              "      <td>0</td>\n",
              "      <td>0</td>\n",
              "      <td>0.5</td>\n",
              "      <td>0</td>\n",
              "      <td>0</td>\n",
              "      <td>0</td>\n",
              "      <td>0</td>\n",
              "      <td>0</td>\n",
              "      <td>0.5</td>\n",
              "      <td>0</td>\n",
              "      <td>1</td>\n",
              "      <td>0.5</td>\n",
              "      <td>0.5</td>\n",
              "      <td>0.5</td>\n",
              "      <td>0.5</td>\n",
              "      <td>1</td>\n",
              "      <td>0</td>\n",
              "    </tr>\n",
              "    <tr>\n",
              "      <th>14</th>\n",
              "      <td>meren</td>\n",
              "      <td>m</td>\n",
              "      <td>1</td>\n",
              "      <td>1</td>\n",
              "      <td>0.5</td>\n",
              "      <td>1</td>\n",
              "      <td>0.5</td>\n",
              "      <td>0.5</td>\n",
              "      <td>0</td>\n",
              "      <td>0</td>\n",
              "      <td>0.5</td>\n",
              "      <td>0</td>\n",
              "      <td>0</td>\n",
              "      <td>0</td>\n",
              "      <td>0</td>\n",
              "      <td>0</td>\n",
              "      <td>0.5</td>\n",
              "      <td>0</td>\n",
              "      <td>1</td>\n",
              "      <td>0.5</td>\n",
              "      <td>0.5</td>\n",
              "      <td>0.5</td>\n",
              "      <td>0.5</td>\n",
              "      <td>1</td>\n",
              "      <td>0</td>\n",
              "    </tr>\n",
              "    <tr>\n",
              "      <th>...</th>\n",
              "      <td>...</td>\n",
              "      <td>...</td>\n",
              "      <td>...</td>\n",
              "      <td>...</td>\n",
              "      <td>...</td>\n",
              "      <td>...</td>\n",
              "      <td>...</td>\n",
              "      <td>...</td>\n",
              "      <td>...</td>\n",
              "      <td>...</td>\n",
              "      <td>...</td>\n",
              "      <td>...</td>\n",
              "      <td>...</td>\n",
              "      <td>...</td>\n",
              "      <td>...</td>\n",
              "      <td>...</td>\n",
              "      <td>...</td>\n",
              "      <td>...</td>\n",
              "      <td>...</td>\n",
              "      <td>...</td>\n",
              "      <td>...</td>\n",
              "      <td>...</td>\n",
              "      <td>...</td>\n",
              "      <td>...</td>\n",
              "      <td>...</td>\n",
              "    </tr>\n",
              "    <tr>\n",
              "      <th>1323</th>\n",
              "      <td>macht</td>\n",
              "      <td>m</td>\n",
              "      <td>1</td>\n",
              "      <td>1</td>\n",
              "      <td>0.5</td>\n",
              "      <td>1</td>\n",
              "      <td>0.5</td>\n",
              "      <td>0.5</td>\n",
              "      <td>0</td>\n",
              "      <td>0</td>\n",
              "      <td>0.5</td>\n",
              "      <td>0</td>\n",
              "      <td>0</td>\n",
              "      <td>0</td>\n",
              "      <td>0</td>\n",
              "      <td>0</td>\n",
              "      <td>0.5</td>\n",
              "      <td>0</td>\n",
              "      <td>1</td>\n",
              "      <td>0.5</td>\n",
              "      <td>0.5</td>\n",
              "      <td>0.5</td>\n",
              "      <td>0.5</td>\n",
              "      <td>1</td>\n",
              "      <td>0</td>\n",
              "    </tr>\n",
              "    <tr>\n",
              "      <th>1324</th>\n",
              "      <td>kop</td>\n",
              "      <td>k</td>\n",
              "      <td>1</td>\n",
              "      <td>0.5</td>\n",
              "      <td>0.5</td>\n",
              "      <td>0.5</td>\n",
              "      <td>0</td>\n",
              "      <td>0.5</td>\n",
              "      <td>0</td>\n",
              "      <td>0</td>\n",
              "      <td>1</td>\n",
              "      <td>1</td>\n",
              "      <td>0.5</td>\n",
              "      <td>0.5</td>\n",
              "      <td>1</td>\n",
              "      <td>0.5</td>\n",
              "      <td>0.5</td>\n",
              "      <td>0</td>\n",
              "      <td>0.5</td>\n",
              "      <td>0.5</td>\n",
              "      <td>0.5</td>\n",
              "      <td>0.5</td>\n",
              "      <td>0.5</td>\n",
              "      <td>0.5</td>\n",
              "      <td>0</td>\n",
              "    </tr>\n",
              "    <tr>\n",
              "      <th>1327</th>\n",
              "      <td>vos</td>\n",
              "      <td>v</td>\n",
              "      <td>1</td>\n",
              "      <td>0.5</td>\n",
              "      <td>0.5</td>\n",
              "      <td>1</td>\n",
              "      <td>0.5</td>\n",
              "      <td>0.5</td>\n",
              "      <td>0</td>\n",
              "      <td>0</td>\n",
              "      <td>0.5</td>\n",
              "      <td>0</td>\n",
              "      <td>0</td>\n",
              "      <td>0</td>\n",
              "      <td>0</td>\n",
              "      <td>0</td>\n",
              "      <td>0.5</td>\n",
              "      <td>0</td>\n",
              "      <td>1</td>\n",
              "      <td>0.5</td>\n",
              "      <td>1</td>\n",
              "      <td>1</td>\n",
              "      <td>0.5</td>\n",
              "      <td>0.5</td>\n",
              "      <td>0</td>\n",
              "    </tr>\n",
              "    <tr>\n",
              "      <th>1331</th>\n",
              "      <td>koningsdochter</td>\n",
              "      <td>k</td>\n",
              "      <td>1</td>\n",
              "      <td>0.5</td>\n",
              "      <td>0.5</td>\n",
              "      <td>0.5</td>\n",
              "      <td>0</td>\n",
              "      <td>0.5</td>\n",
              "      <td>0</td>\n",
              "      <td>0</td>\n",
              "      <td>1</td>\n",
              "      <td>1</td>\n",
              "      <td>0.5</td>\n",
              "      <td>0.5</td>\n",
              "      <td>1</td>\n",
              "      <td>0.5</td>\n",
              "      <td>0.5</td>\n",
              "      <td>0</td>\n",
              "      <td>0.5</td>\n",
              "      <td>0.5</td>\n",
              "      <td>0.5</td>\n",
              "      <td>0.5</td>\n",
              "      <td>0.5</td>\n",
              "      <td>0.5</td>\n",
              "      <td>0</td>\n",
              "    </tr>\n",
              "    <tr>\n",
              "      <th>1333</th>\n",
              "      <td>geluk</td>\n",
              "      <td>x</td>\n",
              "      <td>1</td>\n",
              "      <td>0.5</td>\n",
              "      <td>0.5</td>\n",
              "      <td>0.5</td>\n",
              "      <td>0</td>\n",
              "      <td>0.5</td>\n",
              "      <td>0</td>\n",
              "      <td>0</td>\n",
              "      <td>1</td>\n",
              "      <td>1</td>\n",
              "      <td>0.5</td>\n",
              "      <td>0.5</td>\n",
              "      <td>1</td>\n",
              "      <td>0.5</td>\n",
              "      <td>0.5</td>\n",
              "      <td>0</td>\n",
              "      <td>0.5</td>\n",
              "      <td>0.5</td>\n",
              "      <td>1</td>\n",
              "      <td>0.5</td>\n",
              "      <td>0.5</td>\n",
              "      <td>0.5</td>\n",
              "      <td>0</td>\n",
              "    </tr>\n",
              "  </tbody>\n",
              "</table>\n",
              "<p>778 rows × 25 columns</p>\n",
              "</div>"
            ],
            "text/plain": [
              "                word phoneme consonantal  ... lateral nasal diphthong\n",
              "0               land       l           1  ...       1   0.5         0\n",
              "2              koren       k           1  ...     0.5   0.5         0\n",
              "6           ooievaar       o         0.5  ...     0.5   0.5       0.5\n",
              "9             moeder       m           1  ...     0.5     1         0\n",
              "14             meren       m           1  ...     0.5     1         0\n",
              "...              ...     ...         ...  ...     ...   ...       ...\n",
              "1323           macht       m           1  ...     0.5     1         0\n",
              "1324             kop       k           1  ...     0.5   0.5         0\n",
              "1327             vos       v           1  ...     0.5   0.5         0\n",
              "1331  koningsdochter       k           1  ...     0.5   0.5         0\n",
              "1333           geluk       x           1  ...     0.5   0.5         0\n",
              "\n",
              "[778 rows x 25 columns]"
            ]
          },
          "metadata": {
            "tags": []
          },
          "execution_count": 81
        }
      ]
    },
    {
      "cell_type": "markdown",
      "metadata": {
        "id": "dsCE6HQo9eBm"
      },
      "source": [
        "Before the final matrix can be generated, trials which were deleted during the cleaning process need to be removed."
      ]
    },
    {
      "cell_type": "code",
      "metadata": {
        "id": "i5vCLGncyc8q"
      },
      "source": [
        "def deletetrials(trls, table):\n",
        "  # remove deleted trials\n",
        "  table.drop(trls,0, inplace=True)\n",
        "  return table\n",
        "\n",
        "trials = [223,648,852,903,946,1132,1211] #change to get all the deleted trials; change name \n",
        "feature_m = deletetrials(trials,feature_m)\n",
        "\n",
        "#print(list(index_with_nan))"
      ],
      "execution_count": null,
      "outputs": []
    },
    {
      "cell_type": "code",
      "metadata": {
        "id": "7YhXotiVEO7E"
      },
      "source": [
        "import numpy as np, pandas as pd, scipy.io\n",
        "\n",
        "z = feature_m.shape[0]\n",
        "df = feature_m.loc[:,'consonantal':]\n",
        "data = df.values\n",
        "n = data.shape[0]\n",
        "N = n*(n-1)//2\n",
        "idx = np.concatenate(( [0], np.arange(n-1,0,-1).cumsum() ))\n",
        "start, stop = idx[:-1], idx[1:]\n",
        "out = np.empty((N,data.shape[1]+2),dtype=int)\n",
        "for j,i in enumerate(range(n-1)):\n",
        "    s0,s1 = start[j],stop[j]\n",
        "    out[s0:s1,:-2] = data[i,None] == data[i+1:]\n",
        "    out[s0:s1,-2] = j\n",
        "    out[s0:s1,-1] = np.arange(j+1,n)\n",
        "\n",
        "#creates array out where each row represents the comparison of one segment's features with the other\n",
        "\n",
        "matrix = pd.DataFrame(out[:,:-2])\n",
        "segment1 = pd.DataFrame(out[:,-2])\n",
        "segment2 = pd.DataFrame(out[:,-1])\n",
        "matrix.columns = (['consonantal', 'sonorant', 'syllabic', 'labial', 'round', 'coronal', 'anterior', 'distributed', 'dorsal', 'high', 'low', 'front', 'back', 'tense', 'pharyngeal', 'ATR', 'voice', 'spread.gl', 'continuant', 'strident', 'lateral', 'nasal','diphthong']) \n",
        "\n",
        "#each line logs whether or not the cells are the same \n",
        "m_sum = matrix.sum(axis=1, skipna=False)\n",
        "\n",
        "matrix['segment 1'] = segment1\n",
        "matrix['segment 2'] = segment2\n",
        "matrix['dissimilarity'] = 1 - (m_sum/ data.shape[1])\n",
        "\n",
        "pmatrix = np.zeros((z,z)) #changes for each subject  \n",
        "\n",
        "m = matrix.values\n",
        "m = m[:,23:]\n",
        "n = m.shape[0]\n",
        "\n",
        "for k in range(n):\n",
        "  i = int(m[k,0])\n",
        "  j = int(m[k,1])\n",
        "  h = m[k,2]\n",
        "  pmatrix[i,j] = h\n",
        "  pmatrix[j,i] = pmatrix[i,j]\n",
        "\n",
        "pmatrix\n",
        "scipy.io.savemat('late_pmatrix.mat', mdict={'pmatrix': pmatrix})     #final phon RDM          "
      ],
      "execution_count": null,
      "outputs": []
    },
    {
      "cell_type": "code",
      "metadata": {
        "id": "T-aA8cHKssqo"
      },
      "source": [
        "a = pd.DataFrame(pmatrix)\n",
        "a"
      ],
      "execution_count": null,
      "outputs": []
    },
    {
      "cell_type": "markdown",
      "metadata": {
        "id": "djrIplWdIh3i"
      },
      "source": [
        "### Semantic RDM"
      ]
    },
    {
      "cell_type": "code",
      "metadata": {
        "id": "51_MG7OvFMVd"
      },
      "source": [
        "import pandas as pd, csv, numpy as np\n",
        "from sklearn.metrics.pairwise import cosine_similarity\n",
        "\n",
        "def createsemrdm(wordinfo):\n",
        "  df = wordinfo\n",
        "  df2 = pd.read_csv('/content/allvectors.csv', sep=\",\", converters={'vector': eval})\n",
        "  vector_m = pd.DataFrame(columns=['word','vector'])\n",
        "  n = wordinfo.index\n",
        "  m = df2.shape[0]\n",
        "  for i in n: \n",
        "    w = df.loc[i,'word']\n",
        "    vector_m.loc[i,'word'] = w\n",
        "    for j in range(m): \n",
        "        x = df2.loc[j,'word']\n",
        "        if x == w:\n",
        "            v = df2.loc[j,'vector']\n",
        "            vector_m.loc[i,'vector'] = v\n",
        "  return vector_m\n",
        "\n",
        "vector_m = createsemrdm(latewordinfo)\n",
        "\n",
        "# remove words that don't exist\n",
        "index_with_nan = vector_m.index[vector_m.vector.isnull()]\n",
        "vector_m.drop(index_with_nan,0, inplace=True)\n",
        "index_with_nan = [x+1 for x in list(index_with_nan)]\n",
        "#print(index_with_nan)\n",
        "#vector_m.to_excel('earlysemRDM.xlsx') #to save to file; \n",
        "\n"
      ],
      "execution_count": null,
      "outputs": []
    },
    {
      "cell_type": "code",
      "metadata": {
        "id": "8Bn1bDM-Sy2G"
      },
      "source": [
        "#remove deleted trials \n",
        "vector_m = deletetrials(trials,vector_m)"
      ],
      "execution_count": null,
      "outputs": []
    },
    {
      "cell_type": "code",
      "metadata": {
        "id": "DFko-zK1Lxn6"
      },
      "source": [
        "data = np.zeros((z,300))\n",
        "vector_m.reset_index(drop=True, inplace=True)\n",
        "\n",
        "for i in vector_m.index:\n",
        "  u = vector_m.loc[i,'vector']\n",
        "  data[i] = np.asarray(u)\n",
        "  \n",
        "\n",
        "vmatrix = 1 - cosine_similarity(data)"
      ],
      "execution_count": null,
      "outputs": []
    },
    {
      "cell_type": "code",
      "metadata": {
        "id": "eZhxIaVmNGSU"
      },
      "source": [
        "vmatrix"
      ],
      "execution_count": null,
      "outputs": []
    },
    {
      "cell_type": "code",
      "metadata": {
        "id": "qv34gec6I-i3"
      },
      "source": [
        "scipy.io.savemat('late_vmatrix.mat', mdict={'vmatrix': vmatrix})"
      ],
      "execution_count": null,
      "outputs": []
    },
    {
      "cell_type": "markdown",
      "metadata": {
        "id": "UF9epYEal1Fc"
      },
      "source": [
        "# Random code snippets "
      ]
    },
    {
      "cell_type": "code",
      "metadata": {
        "id": "sYHi_GQz8cj6",
        "colab": {
          "base_uri": "https://localhost:8080/"
        },
        "outputId": "af07a7d0-2ab9-4bd0-fac9-3a4f611cbb33"
      },
      "source": [
        "%dhist\n",
        "#%cd ..\n",
        "#print(word)\n",
        "#print(words)\n",
        "\n",
        "#t = token.vector\n",
        "\n",
        "\n",
        "\n",
        "#%rm -rf prosodic1b\n",
        "\n",
        "\n"
      ],
      "execution_count": null,
      "outputs": [
        {
          "output_type": "stream",
          "text": [
            "Directory history (kept in _dh)\n",
            "0: /content\n",
            "1: /content/prosodic1b\n",
            "/content\n"
          ],
          "name": "stdout"
        }
      ]
    },
    {
      "cell_type": "markdown",
      "metadata": {
        "id": "xyqtYWN88LMf"
      },
      "source": [
        "# Additional scripts"
      ]
    },
    {
      "cell_type": "markdown",
      "metadata": {
        "id": "2uqRNFpH8nhJ"
      },
      "source": [
        "This section contains any scripts which have been modified or amended or are needed to run any of the previous sections. These need to be saved to a file and uploaded to the necessary repositories. "
      ]
    },
    {
      "cell_type": "markdown",
      "metadata": {
        "id": "VqiKDcq088jW"
      },
      "source": [
        "## Modipa.py"
      ]
    },
    {
      "cell_type": "code",
      "metadata": {
        "id": "z1H-EUdm8cax"
      },
      "source": [
        "# -*- coding: UTF-8 -*-\n",
        "\n",
        "import re\n",
        "\n",
        "# Feature system taken from Riggle(2013); Code adapted from Falk(2015)\n",
        "\n",
        "ipa_to_features = {}\n",
        "\n",
        "\n",
        "all_features = ['consonantal', 'sonorant', 'syllabic', 'labial', 'round', 'coronal', 'anterior', 'distributed', 'dorsal', 'high', 'low', 'front', 'back', 'tense', 'pharyngeal', 'ATR',  'voice', 'spread.gl', 'constr.gl','continuant', 'strident', 'lateral', 'delayed.release', 'nasal', 'diphthong']\n",
        "\n",
        "#the diphthong feature is one that has been added for the sake of simply representing all the vowels present in the audiobooks\n",
        "\n",
        "\n",
        "##############\n",
        "# Consonants #\n",
        "##############\n",
        "\n",
        "consonant_features = ['consonantal', 'sonorant', 'syllabic', 'labial', 'round', 'coronal', 'anterior', 'distributed', 'dorsal', 'high', 'low', 'front', 'back', 'tense', 'pharyngeal', 'ATR',  'voice', 'spread.gl', 'constr.gl','continuant', 'strident', 'lateral', 'delayed.release', 'nasal', 'diphthong']\n",
        "#same as all but there's a bug in the code if I don't do the if condition for the features\n",
        "\n",
        "\n",
        "# labial obstruents\n",
        "ipa_to_features[u'p'] = {'consonantal': True, 'sonorant': False, 'syllabic': False, 'labial': True, 'round': False, 'coronal': False, 'anterior': None, 'distributed': None, 'dorsal': False, 'high': None, 'low': None, 'front': None, 'back': None, 'tense': None, 'pharyngeal': False, 'ATR': None, 'voice': False, 'spread.gl': False, 'constr.gl': False, 'continuant': False, 'strident': False, 'lateral': False, 'delayed.release': False, 'nasal': False, 'diphthong': None}\n",
        "ipa_to_features[u'b'] = {'consonantal': True, 'sonorant': False, 'syllabic': False, 'labial': True, 'round': False, 'coronal': False, 'anterior': None, 'distributed': None, 'dorsal': False, 'high': None, 'low': None, 'front': None, 'back': None, 'tense': None, 'pharyngeal': False, 'ATR': None, 'voice': True, 'spread.gl': False, 'constr.gl': False, 'continuant': False, 'strident': False, 'lateral': False, 'delayed.release': False, 'nasal': False, 'diphthong': None}\n",
        "ipa_to_features[u'f'] = {'consonantal': True, 'sonorant': False, 'syllabic': False, 'labial': True, 'round': False, 'coronal': False, 'anterior': None, 'distributed': None, 'dorsal': False, 'high': None, 'low': None, 'front': None, 'back': None, 'tense': None, 'pharyngeal': False, 'ATR': None, 'voice': False, 'spread.gl': False, 'constr.gl': False, 'continuant': True, 'strident': True, 'lateral': False, 'delayed.release': False, 'nasal': False, 'diphthong': None}\n",
        "ipa_to_features[u'v'] = {'consonantal': True, 'sonorant': False, 'syllabic': False, 'labial': True, 'round': False, 'coronal': False, 'anterior': None, 'distributed': None, 'dorsal': False, 'high': None, 'low': None, 'front': None, 'back': None, 'tense': None, 'pharyngeal': False, 'ATR': None, 'voice': True, 'spread.gl': False, 'constr.gl': False, 'continuant': True, 'strident': True, 'lateral': False, 'delayed.release': False, 'nasal': False, 'diphthong': None}\n",
        "\n",
        "# coronal obstruents\n",
        "ipa_to_features[u't'] = {'consonantal': True, 'sonorant': False, 'syllabic': False, 'labial': False, 'round': None, 'coronal': True, 'anterior': True, 'distributed': False, 'dorsal': False, 'high': None, 'low': None, 'front': None, 'back': None, 'tense': None, 'pharyngeal': False, 'ATR': None, 'voice': False, 'spread.gl': False, 'constr.gl': False, 'continuant': False, 'strident': False, 'lateral': False, 'delayed.release': False, 'nasal': False, 'diphthong': None}\n",
        "ipa_to_features[u'd'] = {'consonantal': True, 'sonorant': False, 'syllabic': False, 'labial': False, 'round': None, 'coronal': True, 'anterior': True, 'distributed': False, 'dorsal': False, 'high': None, 'low': None, 'front': None, 'back': None, 'tense': None, 'pharyngeal': False, 'ATR': None, 'voice': True, 'spread.gl': False, 'constr.gl': False, 'continuant': False, 'strident': False, 'lateral': False, 'delayed.release': False, 'nasal': False, 'diphthong': None}\n",
        "ipa_to_features[u's'] = {'consonantal': True, 'sonorant': False, 'syllabic': False, 'labial': False, 'round': None, 'coronal': True, 'anterior': True, 'distributed': False, 'dorsal': False, 'high': None, 'low': None, 'front': None, 'back': None, 'tense': None, 'pharyngeal': False, 'ATR': None, 'voice': False, 'spread.gl': False, 'constr.gl': False, 'continuant': True, 'strident': True, 'lateral': False, 'delayed.release': False, 'nasal': False, 'diphthong': None}\n",
        "ipa_to_features[u'z'] = {'consonantal': True, 'sonorant': False, 'syllabic': False, 'labial': False, 'round': None, 'coronal': True, 'anterior': True, 'distributed': False, 'dorsal': False, 'high': None, 'low': None, 'front': None, 'back': None, 'tense': None, 'pharyngeal': False, 'ATR': None, 'voice': True, 'spread.gl': False, 'constr.gl': False, 'continuant': True, 'strident': True, 'lateral': False, 'delayed.release': False, 'nasal': False, 'diphthong': None}\n",
        "\n",
        "#liquids and nasals\n",
        "ipa_to_features[u'm'] = {'consonantal': True, 'sonorant': True, 'syllabic': False, 'labial': True, 'round': False, 'coronal': False, 'anterior': None, 'distributed': None, 'dorsal': False, 'high': None, 'low': None, 'front': None, 'back': None, 'tense': None, 'pharyngeal': False, 'ATR': None, 'voice': True, 'spread.gl': False, 'constr.gl': False, 'continuant': False, 'strident': False, 'lateral': False, 'delayed.release': False, 'nasal': True, 'diphthong': None}\n",
        "ipa_to_features[u'n'] = {'consonantal': True, 'sonorant': True, 'syllabic': False, 'labial': False, 'round': None, 'coronal': True, 'anterior': True, 'distributed': False, 'dorsal': False, 'high': None, 'low': None, 'front': None, 'back': None, 'tense': None, 'pharyngeal': False, 'ATR': None, 'voice': True, 'spread.gl': False, 'constr.gl': False, 'continuant': False, 'strident': False, 'lateral': False, 'delayed.release': False, 'nasal': True, 'diphthong': None}\n",
        "ipa_to_features[u'l'] = {'consonantal': True, 'sonorant': True, 'syllabic': False, 'labial': False, 'round': None, 'coronal': True, 'anterior': True, 'distributed': False, 'dorsal': False, 'high': None, 'low': None, 'front': None, 'back': None, 'tense': None, 'pharyngeal': False, 'ATR': None, 'voice': True, 'spread.gl': False, 'constr.gl': False, 'continuant': True, 'strident': False, 'lateral': True, 'delayed.release': False, 'nasal': False, 'diphthong': None}\n",
        "ipa_to_features[u'r'] = {'consonantal': True, 'sonorant': True, 'syllabic': False, 'labial': False, 'round': None, 'coronal': True, 'anterior': True, 'distributed': False, 'dorsal': False, 'high': None, 'low': None, 'front': None, 'back': None, 'tense': None, 'pharyngeal': False, 'ATR': None, 'voice': True, 'spread.gl': False, 'constr.gl': False, 'continuant': True, 'strident': False, 'lateral': False, 'delayed.release': False, 'nasal': False, 'diphthong': None}\n",
        "#maybe reinsert a trill feature?\n",
        "\n",
        "\n",
        "# glides\n",
        "ipa_to_features[u'j'] = {'consonantal': False, 'sonorant': True, 'syllabic': False, 'labial': False, 'round': False, 'coronal': False, 'anterior': None, 'distributed': None, 'dorsal': True, 'high': True, 'low': False, 'front': False, 'back': False, 'tense': False, 'pharyngeal': False, 'ATR': None, 'voice': True, 'spread.gl': False, 'constr.gl': False, 'continuant': True, 'strident': False, 'lateral': False, 'delayed.release': False, 'nasal': False, 'diphthong': None}\n",
        "ipa_to_features[u'w'] = {'consonantal': False, 'sonorant': True, 'syllabic': False, 'labial': True, 'round': True, 'coronal': False, 'anterior': None, 'distributed': None, 'dorsal': True, 'high': True, 'low': False, 'front': False, 'back': True, 'tense': False, 'pharyngeal': False, 'ATR': None, 'voice': True, 'spread.gl': False, 'constr.gl': False, 'continuant': True, 'strident': False, 'lateral': False, 'delayed.release': False, 'nasal': False, 'diphthong': None}\n",
        "\n",
        "# dorsal obstruents\n",
        "ipa_to_features[u'k'] = {'consonantal': True, 'sonorant': False, 'syllabic': False, 'labial': False, 'round': None, 'coronal': False, 'anterior': None, 'distributed': None, 'dorsal': True, 'high': True, 'low': False, 'front': False, 'back': True, 'tense': False, 'pharyngeal': False, 'ATR': None, 'voice': False, 'spread.gl': False, 'constr.gl': False, 'continuant': False, 'strident': False, 'lateral': False, 'delayed.release': False, 'nasal': False, 'diphthong': None}\n",
        "ipa_to_features[u'x'] = {'consonantal': True, 'sonorant': False, 'syllabic': False, 'labial': False, 'round': None, 'coronal': False, 'anterior': None, 'distributed': None, 'dorsal': True, 'high': True, 'low': False, 'front': False, 'back': True, 'tense': False, 'pharyngeal': False, 'ATR': None, 'voice': False, 'spread.gl': False, 'constr.gl': False, 'continuant': True, 'strident': False, 'lateral': False, 'delayed.release': False, 'nasal': False, 'diphthong': None}\n",
        "\n",
        "# laryngeals\n",
        "ipa_to_features[u'h'] = {'consonantal': False, 'sonorant': False, 'syllabic': False, 'labial': False, 'round': None, 'coronal': False, 'anterior': None, 'distributed': None, 'dorsal': False, 'high': None, 'low': None, 'front': None, 'back': None, 'tense': None, 'pharyngeal': False, 'ATR': None, 'voice': False, 'spread.gl': True, 'constr.gl': False, 'continuant': True, 'strident': False, 'lateral': False, 'delayed.release': False, 'nasal': False, 'diphthong': None}\n",
        "\n",
        "\n",
        "##########\n",
        "# Vowels #\n",
        "##########\n",
        "\n",
        "vowel_features = ['consonantal', 'sonorant', 'syllabic', 'labial', 'round', 'coronal', 'anterior', 'distributed', 'dorsal', 'high', 'low', 'front', 'back', 'tense', 'pharyngeal', 'ATR',  'voice', 'spread.gl', 'constr.gl','continuant', 'strident', 'lateral', 'delayed.release', 'nasal', 'diphthong']\n",
        "\n",
        "\n",
        "# high tense\n",
        "ipa_to_features[u'y'] = {'consonantal': False, 'sonorant': True, 'syllabic': True, 'labial': True, 'round': True, 'coronal': False, 'anterior': None, 'distributed': None, 'dorsal': True, 'high': True, 'low': False, 'front': True, 'back': False, 'tense': True, 'pharyngeal': True, 'ATR': True, 'voice': True, 'spread.gl': False, 'constr.gl': False, 'continuant': True, 'strident': False, 'lateral': False, 'delayed.release': False, 'nasal': False, 'diphthong': False}\n",
        "ipa_to_features[u'u'] = {'consonantal': False, 'sonorant': True, 'syllabic': True, 'labial': True, 'round': True, 'coronal': False, 'anterior': None, 'distributed': None, 'dorsal': True, 'high': True, 'low': False, 'front': False, 'back': True, 'tense': True, 'pharyngeal': True, 'ATR': True, 'voice': True, 'spread.gl': False, 'constr.gl': False, 'continuant': True, 'strident': False, 'lateral': False, 'delayed.release': False, 'nasal': False, 'diphthong': False}\n",
        "\n",
        "# high lax\n",
        "ipa_to_features[u'ɪ'] = {'consonantal': False, 'sonorant': True, 'syllabic': True, 'labial': True, 'round': False, 'coronal': False, 'anterior': None, 'distributed': None, 'dorsal': True, 'high': True, 'low': False, 'front': True, 'back': False, 'tense': False, 'pharyngeal': True, 'ATR': False, 'voice': True, 'spread.gl': False, 'constr.gl': False, 'continuant': True, 'strident': False, 'lateral': False, 'delayed.release': False, 'nasal': False, 'diphthong': False}\n",
        "\n",
        "# mid tense\n",
        "ipa_to_features[u'e'] = {'consonantal': False, 'sonorant': True, 'syllabic': True, 'labial': True, 'round': False, 'coronal': False, 'anterior': None, 'distributed': None, 'dorsal': True, 'high': False, 'low': False, 'front': True, 'back': False, 'tense': True, 'pharyngeal': True, 'ATR': True, 'voice': True, 'spread.gl': False, 'constr.gl': False, 'continuant': True, 'strident': False, 'lateral': False, 'delayed.release': False, 'nasal': False, 'diphthong': False}\n",
        "ipa_to_features[u'o'] = {'consonantal': False, 'sonorant': True, 'syllabic': True, 'labial': True, 'round': True, 'coronal': False, 'anterior': None, 'distributed': None, 'dorsal': True, 'high': False, 'low': False, 'front': False, 'back': True, 'tense': True, 'pharyngeal': True, 'ATR': True, 'voice': True, 'spread.gl': False, 'constr.gl': False, 'continuant': True, 'strident': False, 'lateral': False, 'delayed.release': False, 'nasal': False, 'diphthong': False}\n",
        "\n",
        "# mid lax\n",
        "ipa_to_features[u'ɛ'] = {'consonantal': False, 'sonorant': True, 'syllabic': True, 'labial': True, 'round': False, 'coronal': False, 'anterior': None, 'distributed': None, 'dorsal': True, 'high': False, 'low': False, 'front': True, 'back': False, 'tense': False, 'pharyngeal': True, 'ATR': False, 'voice': True, 'spread.gl': False, 'constr.gl': False, 'continuant': True, 'strident': False, 'lateral': False, 'delayed.release': False, 'nasal': False, 'diphthong': False}\n",
        "ipa_to_features[u'œ'] = {'consonantal': False, 'sonorant': True, 'syllabic': True, 'labial': True, 'round': True, 'coronal': False, 'anterior': None, 'distributed': None, 'dorsal': True, 'high': False, 'low': False, 'front': True, 'back': False, 'tense': False, 'pharyngeal': True, 'ATR': False, 'voice': True, 'spread.gl': False, 'constr.gl': False, 'continuant': True, 'strident': False, 'lateral': False, 'delayed.release': False, 'nasal': False, 'diphthong': False}\n",
        "ipa_to_features[u'ɔ'] = {'consonantal': False, 'sonorant': True, 'syllabic': True, 'labial': True, 'round': True, 'coronal': False, 'anterior': None, 'distributed': None, 'dorsal': True, 'high': False, 'low': False, 'front': False, 'back': True, 'tense': False, 'pharyngeal': True, 'ATR': False, 'voice': True, 'spread.gl': False, 'constr.gl': False, 'continuant': True, 'strident': False, 'lateral': False, 'delayed.release': False, 'nasal': False, 'diphthong': False}\n",
        "\n",
        "# low\n",
        "ipa_to_features[u'a'] = {'consonantal': False, 'sonorant': True, 'syllabic': True, 'labial': True, 'round': False, 'coronal': False, 'anterior': None, 'distributed': None, 'dorsal': True, 'high': False, 'low': True, 'front': False, 'back': False, 'tense': False, 'pharyngeal': True, 'ATR': False, 'voice': True, 'spread.gl': False, 'constr.gl': False, 'continuant': True, 'strident': False, 'lateral': False, 'delayed.release': False, 'nasal': False, 'diphthong': False}\n",
        "ipa_to_features[u'ɑ'] = {'consonantal': False, 'sonorant': True, 'syllabic': True, 'labial': True, 'round': False, 'coronal': False, 'anterior': None, 'distributed': None, 'dorsal': True, 'high': False, 'low': True, 'front': False, 'back': True, 'tense': False, 'pharyngeal': True, 'ATR': False, 'voice': True, 'spread.gl': False, 'constr.gl': False, 'continuant': True, 'strident': False, 'lateral': False, 'delayed.release': False, 'nasal': False, 'diphthong': False}\n",
        "\n",
        "# diphthong\n",
        "ipa_to_features[u'ɛi'] = {'consonantal': False, 'sonorant': True, 'syllabic': True, 'labial': True, 'round': False, 'coronal': False, 'anterior': None, 'distributed': None, 'dorsal': True, 'high': False, 'low': False, 'front': True, 'back': False, 'tense': False, 'pharyngeal': True, 'ATR': False, 'voice': True, 'spread.gl': False, 'constr.gl': False, 'continuant': True, 'strident': False, 'lateral': False, 'delayed.release': False, 'nasal': False, 'diphthong': True}\n",
        "ipa_to_features[u'œy'] = {'consonantal': False, 'sonorant': True, 'syllabic': True, 'labial': True, 'round': True, 'coronal': False, 'anterior': None, 'distributed': None, 'dorsal': True, 'high': False, 'low': False, 'front': True, 'back': False, 'tense': False, 'pharyngeal': True, 'ATR': False, 'voice': True, 'spread.gl': False, 'constr.gl': False, 'continuant': True, 'strident': False, 'lateral': False, 'delayed.release': False, 'nasal': False, 'diphthong': True}\n",
        "ipa_to_features[u'ɔu'] = {'consonantal': False, 'sonorant': True, 'syllabic': True, 'labial': True, 'round': True, 'coronal': False, 'anterior': None, 'distributed': None, 'dorsal': True, 'high': False, 'low': False, 'front': False, 'back': True, 'tense': False, 'pharyngeal': True, 'ATR': False, 'voice': True, 'spread.gl': False, 'constr.gl': False, 'continuant': True, 'strident': False, 'lateral': False, 'delayed.release': False, 'nasal': False, 'diphthong': True}\n",
        "\n",
        "\n",
        "\n",
        "#all_features = set(consonant_features + vowel_features)\n",
        "\n",
        "value_map = {'+': True, '-': False, '0': None}\n",
        "reverse_value_map = {True: '+', False: '-', None: '0'}\n",
        "\n",
        "# Split a combined feature and value into separate parts\n",
        "# E.g. \"+sonorant\" -> (\"sonorant\", True)\n",
        "def split_feature_and_value(feature):\n",
        "\tif len(feature) < 1:\n",
        "\t\treturn None\n",
        "\tvalue = feature[0]\n",
        "\tif value not in value_map:\n",
        "\t\treturn None\n",
        "\tvalue = value_map[value]\n",
        "\tfeature = feature[1:]\n",
        "\tif feature not in all_features:\n",
        "\t\treturn None\n",
        "\treturn (feature, value)\n",
        "\n",
        "# combine a feature and a value into one representation\n",
        "# E.g. (\"sonorant\", True) -> \"+sonorant\"\n",
        "def combine_feature_and_value(feature, value):\n",
        "\tif value not in reverse_value_map:\n",
        "\t\treturn None\n",
        "\treturn reverse_value_map[value] + feature\n",
        "\n",
        "# Note: this may need to change if the feature system is modified\n",
        "def is_vowel(phoneme):\n",
        "\treturn 'consonantal' not in ipa_to_features[phoneme]\n",
        "\n",
        "def is_consonant(phoneme):\n",
        "\treturn not is_vowel(phoneme)\n",
        "\n",
        "def phoneme_feature_string(phoneme):\n",
        "\tif phoneme not in ipa_to_features:\n",
        "\t\treturn None\n",
        "\tfeatures = all_features\n",
        "\tfeature_value_pairs = [(feature, ipa_to_features[phoneme][feature]) for feature in features]\n",
        "\treturn \", \".join([combine_feature_and_value(feature, value) for feature, value in feature_value_pairs if value != None])\n",
        "\n",
        "def get_natural_class(features):\n",
        "\tfeatures = re.findall('\\s*([^\\s]+)\\s*', features, re.UNICODE)\n",
        "\tresult = set(ipa_to_features.keys())\n",
        "\tfor feature in features:\n",
        "\t\tmatches = set()\n",
        "\t\tsplit = split_feature_and_value(feature)\n",
        "\t\tif split == None:\n",
        "\t\t\tprint(\"Invalid feature: \" + feature)\n",
        "\t\t\treturn set()\n",
        "\t\tfeature, value = split\n",
        "\t\tfor phoneme in ipa_to_features:\n",
        "\t\t\tfeature_values = ipa_to_features[phoneme]\n",
        "\t\t\tif feature in feature_values and feature_values[feature] == value:\n",
        "\t\t\t\tmatches.add(phoneme)\t\t\n",
        "\t\tresult = result.intersection(matches)\n",
        "\treturn result"
      ],
      "execution_count": null,
      "outputs": []
    }
  ]
}